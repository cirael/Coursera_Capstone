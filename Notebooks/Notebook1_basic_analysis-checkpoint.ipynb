{
 "cells": [
  {
   "cell_type": "code",
   "execution_count": 38,
   "metadata": {},
   "outputs": [],
   "source": [
    "import pandas as pd\n",
    "import numpy as np\n",
    "%matplotlib inline\n",
    "import matplotlib.pyplot as plt"
   ]
  },
  {
   "cell_type": "code",
   "execution_count": 39,
   "metadata": {},
   "outputs": [],
   "source": [
    "crash_df = pd.read_csv(r\"C:\\Users\\GosiaW\\Desktop\\Capstone_project\\data\\Collisions.csv\")"
   ]
  },
  {
   "cell_type": "code",
   "execution_count": 40,
   "metadata": {},
   "outputs": [
    {
     "data": {
      "text/plain": [
       "(221525, 40)"
      ]
     },
     "execution_count": 40,
     "metadata": {},
     "output_type": "execute_result"
    }
   ],
   "source": [
    "crash_df.shape"
   ]
  },
  {
   "cell_type": "code",
   "execution_count": 41,
   "metadata": {},
   "outputs": [
    {
     "data": {
      "text/plain": [
       "Index(['X', 'Y', 'OBJECTID', 'INCKEY', 'COLDETKEY', 'REPORTNO', 'STATUS',\n",
       "       'ADDRTYPE', 'INTKEY', 'LOCATION', 'EXCEPTRSNCODE', 'EXCEPTRSNDESC',\n",
       "       'SEVERITYCODE', 'SEVERITYDESC', 'COLLISIONTYPE', 'PERSONCOUNT',\n",
       "       'PEDCOUNT', 'PEDCYLCOUNT', 'VEHCOUNT', 'INJURIES', 'SERIOUSINJURIES',\n",
       "       'FATALITIES', 'INCDATE', 'INCDTTM', 'JUNCTIONTYPE', 'SDOT_COLCODE',\n",
       "       'SDOT_COLDESC', 'INATTENTIONIND', 'UNDERINFL', 'WEATHER', 'ROADCOND',\n",
       "       'LIGHTCOND', 'PEDROWNOTGRNT', 'SDOTCOLNUM', 'SPEEDING', 'ST_COLCODE',\n",
       "       'ST_COLDESC', 'SEGLANEKEY', 'CROSSWALKKEY', 'HITPARKEDCAR'],\n",
       "      dtype='object')"
      ]
     },
     "execution_count": 41,
     "metadata": {},
     "output_type": "execute_result"
    }
   ],
   "source": [
    "crash_df.columns"
   ]
  },
  {
   "cell_type": "code",
   "execution_count": 42,
   "metadata": {},
   "outputs": [],
   "source": [
    "crash_df1=crash_df.drop(columns=['OBJECTID', 'INCKEY', 'COLDETKEY', 'REPORTNO', 'STATUS', 'INTKEY','INCDTTM', 'EXCEPTRSNCODE', 'EXCEPTRSNDESC', 'SEVERITYDESC', 'PERSONCOUNT',\n",
    "       'PEDCOUNT', 'PEDCYLCOUNT', 'VEHCOUNT', 'INJURIES', 'SERIOUSINJURIES','JUNCTIONTYPE', 'SDOT_COLCODE', 'SDOT_COLDESC', 'ST_COLCODE','ST_COLDESC', 'SDOTCOLNUM', 'SEGLANEKEY', 'CROSSWALKKEY', 'HITPARKEDCAR', 'SDOTCOLNUM'])"
   ]
  },
  {
   "cell_type": "code",
   "execution_count": 43,
   "metadata": {},
   "outputs": [
    {
     "data": {
      "text/html": [
       "<div>\n",
       "<style scoped>\n",
       "    .dataframe tbody tr th:only-of-type {\n",
       "        vertical-align: middle;\n",
       "    }\n",
       "\n",
       "    .dataframe tbody tr th {\n",
       "        vertical-align: top;\n",
       "    }\n",
       "\n",
       "    .dataframe thead th {\n",
       "        text-align: right;\n",
       "    }\n",
       "</style>\n",
       "<table border=\"1\" class=\"dataframe\">\n",
       "  <thead>\n",
       "    <tr style=\"text-align: right;\">\n",
       "      <th></th>\n",
       "      <th>X</th>\n",
       "      <th>Y</th>\n",
       "      <th>ADDRTYPE</th>\n",
       "      <th>LOCATION</th>\n",
       "      <th>SEVERITYCODE</th>\n",
       "      <th>COLLISIONTYPE</th>\n",
       "      <th>FATALITIES</th>\n",
       "      <th>INCDATE</th>\n",
       "      <th>INATTENTIONIND</th>\n",
       "      <th>UNDERINFL</th>\n",
       "      <th>WEATHER</th>\n",
       "      <th>ROADCOND</th>\n",
       "      <th>LIGHTCOND</th>\n",
       "      <th>PEDROWNOTGRNT</th>\n",
       "      <th>SPEEDING</th>\n",
       "    </tr>\n",
       "  </thead>\n",
       "  <tbody>\n",
       "    <tr>\n",
       "      <th>0</th>\n",
       "      <td>-122.344896</td>\n",
       "      <td>47.717173</td>\n",
       "      <td>Block</td>\n",
       "      <td>AURORA AVE N BETWEEN N 117TH PL AND N 125TH ST</td>\n",
       "      <td>2</td>\n",
       "      <td>Cycles</td>\n",
       "      <td>0</td>\n",
       "      <td>2013/03/14 00:00:00+00</td>\n",
       "      <td>NaN</td>\n",
       "      <td>N</td>\n",
       "      <td>Clear</td>\n",
       "      <td>Dry</td>\n",
       "      <td>Daylight</td>\n",
       "      <td>Y</td>\n",
       "      <td>NaN</td>\n",
       "    </tr>\n",
       "    <tr>\n",
       "      <th>1</th>\n",
       "      <td>-122.376467</td>\n",
       "      <td>47.543774</td>\n",
       "      <td>Block</td>\n",
       "      <td>35TH AVE SW BETWEEN SW MORGAN ST AND SW HOLLY ST</td>\n",
       "      <td>2</td>\n",
       "      <td>Pedestrian</td>\n",
       "      <td>0</td>\n",
       "      <td>2006/01/15 00:00:00+00</td>\n",
       "      <td>NaN</td>\n",
       "      <td>0</td>\n",
       "      <td>Overcast</td>\n",
       "      <td>Dry</td>\n",
       "      <td>Dark - Street Lights On</td>\n",
       "      <td>NaN</td>\n",
       "      <td>NaN</td>\n",
       "    </tr>\n",
       "    <tr>\n",
       "      <th>2</th>\n",
       "      <td>-122.360735</td>\n",
       "      <td>47.701487</td>\n",
       "      <td>Intersection</td>\n",
       "      <td>3RD AVE NW AND NW 100TH ST</td>\n",
       "      <td>1</td>\n",
       "      <td>Angles</td>\n",
       "      <td>0</td>\n",
       "      <td>2019/09/09 00:00:00+00</td>\n",
       "      <td>NaN</td>\n",
       "      <td>N</td>\n",
       "      <td>Overcast</td>\n",
       "      <td>Wet</td>\n",
       "      <td>Daylight</td>\n",
       "      <td>NaN</td>\n",
       "      <td>NaN</td>\n",
       "    </tr>\n",
       "    <tr>\n",
       "      <th>3</th>\n",
       "      <td>-122.297415</td>\n",
       "      <td>47.599233</td>\n",
       "      <td>Intersection</td>\n",
       "      <td>M L KING JR WAY S AND S JACKSON ST</td>\n",
       "      <td>1</td>\n",
       "      <td>NaN</td>\n",
       "      <td>0</td>\n",
       "      <td>2019/12/19 00:00:00+00</td>\n",
       "      <td>NaN</td>\n",
       "      <td>NaN</td>\n",
       "      <td>NaN</td>\n",
       "      <td>NaN</td>\n",
       "      <td>NaN</td>\n",
       "      <td>NaN</td>\n",
       "      <td>NaN</td>\n",
       "    </tr>\n",
       "    <tr>\n",
       "      <th>4</th>\n",
       "      <td>-122.368001</td>\n",
       "      <td>47.653585</td>\n",
       "      <td>Block</td>\n",
       "      <td>W EWING ST BETWEEN 6TH AVE W AND W EWING PL</td>\n",
       "      <td>0</td>\n",
       "      <td>NaN</td>\n",
       "      <td>0</td>\n",
       "      <td>2013/03/27 00:00:00+00</td>\n",
       "      <td>NaN</td>\n",
       "      <td>NaN</td>\n",
       "      <td>NaN</td>\n",
       "      <td>NaN</td>\n",
       "      <td>NaN</td>\n",
       "      <td>NaN</td>\n",
       "      <td>NaN</td>\n",
       "    </tr>\n",
       "  </tbody>\n",
       "</table>\n",
       "</div>"
      ],
      "text/plain": [
       "            X          Y      ADDRTYPE  \\\n",
       "0 -122.344896  47.717173         Block   \n",
       "1 -122.376467  47.543774         Block   \n",
       "2 -122.360735  47.701487  Intersection   \n",
       "3 -122.297415  47.599233  Intersection   \n",
       "4 -122.368001  47.653585         Block   \n",
       "\n",
       "                                           LOCATION SEVERITYCODE  \\\n",
       "0    AURORA AVE N BETWEEN N 117TH PL AND N 125TH ST            2   \n",
       "1  35TH AVE SW BETWEEN SW MORGAN ST AND SW HOLLY ST            2   \n",
       "2                        3RD AVE NW AND NW 100TH ST            1   \n",
       "3                M L KING JR WAY S AND S JACKSON ST            1   \n",
       "4       W EWING ST BETWEEN 6TH AVE W AND W EWING PL            0   \n",
       "\n",
       "  COLLISIONTYPE  FATALITIES                 INCDATE INATTENTIONIND UNDERINFL  \\\n",
       "0        Cycles           0  2013/03/14 00:00:00+00            NaN         N   \n",
       "1    Pedestrian           0  2006/01/15 00:00:00+00            NaN         0   \n",
       "2        Angles           0  2019/09/09 00:00:00+00            NaN         N   \n",
       "3           NaN           0  2019/12/19 00:00:00+00            NaN       NaN   \n",
       "4           NaN           0  2013/03/27 00:00:00+00            NaN       NaN   \n",
       "\n",
       "    WEATHER ROADCOND                LIGHTCOND PEDROWNOTGRNT SPEEDING  \n",
       "0     Clear      Dry                 Daylight             Y      NaN  \n",
       "1  Overcast      Dry  Dark - Street Lights On           NaN      NaN  \n",
       "2  Overcast      Wet                 Daylight           NaN      NaN  \n",
       "3       NaN      NaN                      NaN           NaN      NaN  \n",
       "4       NaN      NaN                      NaN           NaN      NaN  "
      ]
     },
     "execution_count": 43,
     "metadata": {},
     "output_type": "execute_result"
    }
   ],
   "source": [
    "crash_df1.head()"
   ]
  },
  {
   "cell_type": "code",
   "execution_count": 44,
   "metadata": {},
   "outputs": [
    {
     "data": {
      "text/plain": [
       "(221525, 15)"
      ]
     },
     "execution_count": 44,
     "metadata": {},
     "output_type": "execute_result"
    }
   ],
   "source": [
    "crash_df1.shape"
   ]
  },
  {
   "cell_type": "code",
   "execution_count": 45,
   "metadata": {},
   "outputs": [],
   "source": [
    "crash_df2=crash_df1[crash_df1.SEVERITYCODE != '0']"
   ]
  },
  {
   "cell_type": "code",
   "execution_count": 46,
   "metadata": {},
   "outputs": [
    {
     "data": {
      "text/plain": [
       "count     30188\n",
       "unique        1\n",
       "top           Y\n",
       "freq      30188\n",
       "Name: INATTENTIONIND, dtype: object"
      ]
     },
     "execution_count": 46,
     "metadata": {},
     "output_type": "execute_result"
    }
   ],
   "source": [
    "crash_df['INATTENTIONIND'].describe()"
   ]
  },
  {
   "cell_type": "code",
   "execution_count": 47,
   "metadata": {},
   "outputs": [],
   "source": [
    "ped_df1=crash_df2.loc[crash_df1['COLLISIONTYPE'] == 'Pedestrian']"
   ]
  },
  {
   "cell_type": "code",
   "execution_count": 48,
   "metadata": {},
   "outputs": [
    {
     "data": {
      "text/plain": [
       "(7665, 15)"
      ]
     },
     "execution_count": 48,
     "metadata": {},
     "output_type": "execute_result"
    }
   ],
   "source": [
    "ped_df1.shape"
   ]
  },
  {
   "cell_type": "code",
   "execution_count": 49,
   "metadata": {},
   "outputs": [
    {
     "data": {
      "text/html": [
       "<div>\n",
       "<style scoped>\n",
       "    .dataframe tbody tr th:only-of-type {\n",
       "        vertical-align: middle;\n",
       "    }\n",
       "\n",
       "    .dataframe tbody tr th {\n",
       "        vertical-align: top;\n",
       "    }\n",
       "\n",
       "    .dataframe thead th {\n",
       "        text-align: right;\n",
       "    }\n",
       "</style>\n",
       "<table border=\"1\" class=\"dataframe\">\n",
       "  <thead>\n",
       "    <tr style=\"text-align: right;\">\n",
       "      <th></th>\n",
       "      <th>X</th>\n",
       "      <th>Y</th>\n",
       "      <th>ADDRTYPE</th>\n",
       "      <th>LOCATION</th>\n",
       "      <th>SEVERITYCODE</th>\n",
       "      <th>COLLISIONTYPE</th>\n",
       "      <th>FATALITIES</th>\n",
       "      <th>INCDATE</th>\n",
       "      <th>INATTENTIONIND</th>\n",
       "      <th>UNDERINFL</th>\n",
       "      <th>WEATHER</th>\n",
       "      <th>ROADCOND</th>\n",
       "      <th>LIGHTCOND</th>\n",
       "      <th>PEDROWNOTGRNT</th>\n",
       "      <th>SPEEDING</th>\n",
       "    </tr>\n",
       "  </thead>\n",
       "  <tbody>\n",
       "    <tr>\n",
       "      <th>1</th>\n",
       "      <td>-122.376467</td>\n",
       "      <td>47.543774</td>\n",
       "      <td>Block</td>\n",
       "      <td>35TH AVE SW BETWEEN SW MORGAN ST AND SW HOLLY ST</td>\n",
       "      <td>2</td>\n",
       "      <td>Pedestrian</td>\n",
       "      <td>0</td>\n",
       "      <td>2006/01/15 00:00:00+00</td>\n",
       "      <td>NaN</td>\n",
       "      <td>0</td>\n",
       "      <td>Overcast</td>\n",
       "      <td>Dry</td>\n",
       "      <td>Dark - Street Lights On</td>\n",
       "      <td>NaN</td>\n",
       "      <td>NaN</td>\n",
       "    </tr>\n",
       "    <tr>\n",
       "      <th>29</th>\n",
       "      <td>-122.320762</td>\n",
       "      <td>47.612963</td>\n",
       "      <td>Intersection</td>\n",
       "      <td>BROADWAY AND E UNION ST</td>\n",
       "      <td>2</td>\n",
       "      <td>Pedestrian</td>\n",
       "      <td>0</td>\n",
       "      <td>2005/11/11 00:00:00+00</td>\n",
       "      <td>NaN</td>\n",
       "      <td>0</td>\n",
       "      <td>Raining</td>\n",
       "      <td>Wet</td>\n",
       "      <td>Daylight</td>\n",
       "      <td>Y</td>\n",
       "      <td>NaN</td>\n",
       "    </tr>\n",
       "    <tr>\n",
       "      <th>33</th>\n",
       "      <td>-122.333718</td>\n",
       "      <td>47.661387</td>\n",
       "      <td>Intersection</td>\n",
       "      <td>MERIDIAN AVE N AND N 45TH ST</td>\n",
       "      <td>2</td>\n",
       "      <td>Pedestrian</td>\n",
       "      <td>0</td>\n",
       "      <td>2019/12/19 00:00:00+00</td>\n",
       "      <td>NaN</td>\n",
       "      <td>N</td>\n",
       "      <td>Raining</td>\n",
       "      <td>Wet</td>\n",
       "      <td>Dark - Street Lights On</td>\n",
       "      <td>NaN</td>\n",
       "      <td>NaN</td>\n",
       "    </tr>\n",
       "    <tr>\n",
       "      <th>38</th>\n",
       "      <td>-122.345097</td>\n",
       "      <td>47.734128</td>\n",
       "      <td>Intersection</td>\n",
       "      <td>AURORA AVE N AND N 145TH ST</td>\n",
       "      <td>2</td>\n",
       "      <td>Pedestrian</td>\n",
       "      <td>0</td>\n",
       "      <td>2005/12/21 00:00:00+00</td>\n",
       "      <td>NaN</td>\n",
       "      <td>0</td>\n",
       "      <td>Overcast</td>\n",
       "      <td>Wet</td>\n",
       "      <td>Dark - Street Lights On</td>\n",
       "      <td>NaN</td>\n",
       "      <td>NaN</td>\n",
       "    </tr>\n",
       "    <tr>\n",
       "      <th>106</th>\n",
       "      <td>-122.385455</td>\n",
       "      <td>47.562875</td>\n",
       "      <td>Intersection</td>\n",
       "      <td>42ND AVE SW AND SW OREGON ST</td>\n",
       "      <td>2</td>\n",
       "      <td>Pedestrian</td>\n",
       "      <td>0</td>\n",
       "      <td>2019/12/21 00:00:00+00</td>\n",
       "      <td>Y</td>\n",
       "      <td>N</td>\n",
       "      <td>Overcast</td>\n",
       "      <td>Wet</td>\n",
       "      <td>Dark - Street Lights On</td>\n",
       "      <td>NaN</td>\n",
       "      <td>NaN</td>\n",
       "    </tr>\n",
       "  </tbody>\n",
       "</table>\n",
       "</div>"
      ],
      "text/plain": [
       "              X          Y      ADDRTYPE  \\\n",
       "1   -122.376467  47.543774         Block   \n",
       "29  -122.320762  47.612963  Intersection   \n",
       "33  -122.333718  47.661387  Intersection   \n",
       "38  -122.345097  47.734128  Intersection   \n",
       "106 -122.385455  47.562875  Intersection   \n",
       "\n",
       "                                             LOCATION SEVERITYCODE  \\\n",
       "1    35TH AVE SW BETWEEN SW MORGAN ST AND SW HOLLY ST            2   \n",
       "29                            BROADWAY AND E UNION ST            2   \n",
       "33                       MERIDIAN AVE N AND N 45TH ST            2   \n",
       "38                        AURORA AVE N AND N 145TH ST            2   \n",
       "106                      42ND AVE SW AND SW OREGON ST            2   \n",
       "\n",
       "    COLLISIONTYPE  FATALITIES                 INCDATE INATTENTIONIND  \\\n",
       "1      Pedestrian           0  2006/01/15 00:00:00+00            NaN   \n",
       "29     Pedestrian           0  2005/11/11 00:00:00+00            NaN   \n",
       "33     Pedestrian           0  2019/12/19 00:00:00+00            NaN   \n",
       "38     Pedestrian           0  2005/12/21 00:00:00+00            NaN   \n",
       "106    Pedestrian           0  2019/12/21 00:00:00+00              Y   \n",
       "\n",
       "    UNDERINFL   WEATHER ROADCOND                LIGHTCOND PEDROWNOTGRNT  \\\n",
       "1           0  Overcast      Dry  Dark - Street Lights On           NaN   \n",
       "29          0   Raining      Wet                 Daylight             Y   \n",
       "33          N   Raining      Wet  Dark - Street Lights On           NaN   \n",
       "38          0  Overcast      Wet  Dark - Street Lights On           NaN   \n",
       "106         N  Overcast      Wet  Dark - Street Lights On           NaN   \n",
       "\n",
       "    SPEEDING  \n",
       "1        NaN  \n",
       "29       NaN  \n",
       "33       NaN  \n",
       "38       NaN  \n",
       "106      NaN  "
      ]
     },
     "execution_count": 49,
     "metadata": {},
     "output_type": "execute_result"
    }
   ],
   "source": [
    "ped_df1.head()"
   ]
  },
  {
   "cell_type": "code",
   "execution_count": 50,
   "metadata": {},
   "outputs": [],
   "source": [
    "ped_df=ped_df1.drop(columns=['COLLISIONTYPE'])"
   ]
  },
  {
   "cell_type": "code",
   "execution_count": 51,
   "metadata": {},
   "outputs": [
    {
     "data": {
      "text/html": [
       "<div>\n",
       "<style scoped>\n",
       "    .dataframe tbody tr th:only-of-type {\n",
       "        vertical-align: middle;\n",
       "    }\n",
       "\n",
       "    .dataframe tbody tr th {\n",
       "        vertical-align: top;\n",
       "    }\n",
       "\n",
       "    .dataframe thead th {\n",
       "        text-align: right;\n",
       "    }\n",
       "</style>\n",
       "<table border=\"1\" class=\"dataframe\">\n",
       "  <thead>\n",
       "    <tr style=\"text-align: right;\">\n",
       "      <th></th>\n",
       "      <th>X</th>\n",
       "      <th>Y</th>\n",
       "      <th>ADDRTYPE</th>\n",
       "      <th>LOCATION</th>\n",
       "      <th>SEVERITYCODE</th>\n",
       "      <th>FATALITIES</th>\n",
       "      <th>INCDATE</th>\n",
       "      <th>INATTENTIONIND</th>\n",
       "      <th>UNDERINFL</th>\n",
       "      <th>WEATHER</th>\n",
       "      <th>ROADCOND</th>\n",
       "      <th>LIGHTCOND</th>\n",
       "      <th>PEDROWNOTGRNT</th>\n",
       "      <th>SPEEDING</th>\n",
       "    </tr>\n",
       "  </thead>\n",
       "  <tbody>\n",
       "    <tr>\n",
       "      <th>1</th>\n",
       "      <td>-122.376467</td>\n",
       "      <td>47.543774</td>\n",
       "      <td>Block</td>\n",
       "      <td>35TH AVE SW BETWEEN SW MORGAN ST AND SW HOLLY ST</td>\n",
       "      <td>2</td>\n",
       "      <td>0</td>\n",
       "      <td>2006/01/15 00:00:00+00</td>\n",
       "      <td>NaN</td>\n",
       "      <td>0</td>\n",
       "      <td>Overcast</td>\n",
       "      <td>Dry</td>\n",
       "      <td>Dark - Street Lights On</td>\n",
       "      <td>NaN</td>\n",
       "      <td>NaN</td>\n",
       "    </tr>\n",
       "    <tr>\n",
       "      <th>29</th>\n",
       "      <td>-122.320762</td>\n",
       "      <td>47.612963</td>\n",
       "      <td>Intersection</td>\n",
       "      <td>BROADWAY AND E UNION ST</td>\n",
       "      <td>2</td>\n",
       "      <td>0</td>\n",
       "      <td>2005/11/11 00:00:00+00</td>\n",
       "      <td>NaN</td>\n",
       "      <td>0</td>\n",
       "      <td>Raining</td>\n",
       "      <td>Wet</td>\n",
       "      <td>Daylight</td>\n",
       "      <td>Y</td>\n",
       "      <td>NaN</td>\n",
       "    </tr>\n",
       "    <tr>\n",
       "      <th>33</th>\n",
       "      <td>-122.333718</td>\n",
       "      <td>47.661387</td>\n",
       "      <td>Intersection</td>\n",
       "      <td>MERIDIAN AVE N AND N 45TH ST</td>\n",
       "      <td>2</td>\n",
       "      <td>0</td>\n",
       "      <td>2019/12/19 00:00:00+00</td>\n",
       "      <td>NaN</td>\n",
       "      <td>N</td>\n",
       "      <td>Raining</td>\n",
       "      <td>Wet</td>\n",
       "      <td>Dark - Street Lights On</td>\n",
       "      <td>NaN</td>\n",
       "      <td>NaN</td>\n",
       "    </tr>\n",
       "    <tr>\n",
       "      <th>38</th>\n",
       "      <td>-122.345097</td>\n",
       "      <td>47.734128</td>\n",
       "      <td>Intersection</td>\n",
       "      <td>AURORA AVE N AND N 145TH ST</td>\n",
       "      <td>2</td>\n",
       "      <td>0</td>\n",
       "      <td>2005/12/21 00:00:00+00</td>\n",
       "      <td>NaN</td>\n",
       "      <td>0</td>\n",
       "      <td>Overcast</td>\n",
       "      <td>Wet</td>\n",
       "      <td>Dark - Street Lights On</td>\n",
       "      <td>NaN</td>\n",
       "      <td>NaN</td>\n",
       "    </tr>\n",
       "    <tr>\n",
       "      <th>106</th>\n",
       "      <td>-122.385455</td>\n",
       "      <td>47.562875</td>\n",
       "      <td>Intersection</td>\n",
       "      <td>42ND AVE SW AND SW OREGON ST</td>\n",
       "      <td>2</td>\n",
       "      <td>0</td>\n",
       "      <td>2019/12/21 00:00:00+00</td>\n",
       "      <td>Y</td>\n",
       "      <td>N</td>\n",
       "      <td>Overcast</td>\n",
       "      <td>Wet</td>\n",
       "      <td>Dark - Street Lights On</td>\n",
       "      <td>NaN</td>\n",
       "      <td>NaN</td>\n",
       "    </tr>\n",
       "  </tbody>\n",
       "</table>\n",
       "</div>"
      ],
      "text/plain": [
       "              X          Y      ADDRTYPE  \\\n",
       "1   -122.376467  47.543774         Block   \n",
       "29  -122.320762  47.612963  Intersection   \n",
       "33  -122.333718  47.661387  Intersection   \n",
       "38  -122.345097  47.734128  Intersection   \n",
       "106 -122.385455  47.562875  Intersection   \n",
       "\n",
       "                                             LOCATION SEVERITYCODE  \\\n",
       "1    35TH AVE SW BETWEEN SW MORGAN ST AND SW HOLLY ST            2   \n",
       "29                            BROADWAY AND E UNION ST            2   \n",
       "33                       MERIDIAN AVE N AND N 45TH ST            2   \n",
       "38                        AURORA AVE N AND N 145TH ST            2   \n",
       "106                      42ND AVE SW AND SW OREGON ST            2   \n",
       "\n",
       "     FATALITIES                 INCDATE INATTENTIONIND UNDERINFL   WEATHER  \\\n",
       "1             0  2006/01/15 00:00:00+00            NaN         0  Overcast   \n",
       "29            0  2005/11/11 00:00:00+00            NaN         0   Raining   \n",
       "33            0  2019/12/19 00:00:00+00            NaN         N   Raining   \n",
       "38            0  2005/12/21 00:00:00+00            NaN         0  Overcast   \n",
       "106           0  2019/12/21 00:00:00+00              Y         N  Overcast   \n",
       "\n",
       "    ROADCOND                LIGHTCOND PEDROWNOTGRNT SPEEDING  \n",
       "1        Dry  Dark - Street Lights On           NaN      NaN  \n",
       "29       Wet                 Daylight             Y      NaN  \n",
       "33       Wet  Dark - Street Lights On           NaN      NaN  \n",
       "38       Wet  Dark - Street Lights On           NaN      NaN  \n",
       "106      Wet  Dark - Street Lights On           NaN      NaN  "
      ]
     },
     "execution_count": 51,
     "metadata": {},
     "output_type": "execute_result"
    }
   ],
   "source": [
    "ped_df.head()"
   ]
  },
  {
   "cell_type": "code",
   "execution_count": 52,
   "metadata": {},
   "outputs": [
    {
     "data": {
      "text/plain": [
       "count     1058\n",
       "unique       1\n",
       "top          Y\n",
       "freq      1058\n",
       "Name: INATTENTIONIND, dtype: object"
      ]
     },
     "execution_count": 52,
     "metadata": {},
     "output_type": "execute_result"
    }
   ],
   "source": [
    "ped_df['INATTENTIONIND'].describe()"
   ]
  },
  {
   "cell_type": "code",
   "execution_count": 53,
   "metadata": {},
   "outputs": [
    {
     "data": {
      "text/plain": [
       "count     7665\n",
       "unique       2\n",
       "top          0\n",
       "freq      6607\n",
       "Name: INATTENTIONIND, dtype: int64"
      ]
     },
     "execution_count": 53,
     "metadata": {},
     "output_type": "execute_result"
    }
   ],
   "source": [
    "ped_df['INATTENTIONIND'] = ped_df['INATTENTIONIND'].fillna(0)\n",
    "ped_df[\"INATTENTIONIND\"].replace({\"Y\": \"1\"}, inplace=True)\n",
    "ped_df['INATTENTIONIND'].describe()"
   ]
  },
  {
   "cell_type": "code",
   "execution_count": 54,
   "metadata": {},
   "outputs": [
    {
     "data": {
      "text/plain": [
       "count     3261\n",
       "unique       1\n",
       "top          Y\n",
       "freq      3261\n",
       "Name: PEDROWNOTGRNT, dtype: object"
      ]
     },
     "execution_count": 54,
     "metadata": {},
     "output_type": "execute_result"
    }
   ],
   "source": [
    "ped_df['PEDROWNOTGRNT'].describe()"
   ]
  },
  {
   "cell_type": "code",
   "execution_count": 55,
   "metadata": {},
   "outputs": [
    {
     "data": {
      "text/plain": [
       "count     7665\n",
       "unique       2\n",
       "top          0\n",
       "freq      4404\n",
       "Name: PEDROWNOTGRNT, dtype: int64"
      ]
     },
     "execution_count": 55,
     "metadata": {},
     "output_type": "execute_result"
    }
   ],
   "source": [
    "ped_df['PEDROWNOTGRNT'] = ped_df['PEDROWNOTGRNT'].fillna(0)\n",
    "ped_df[\"PEDROWNOTGRNT\"].replace({\"Y\": \"1\"}, inplace=True)\n",
    "ped_df['PEDROWNOTGRNT'].describe()"
   ]
  },
  {
   "cell_type": "code",
   "execution_count": 56,
   "metadata": {},
   "outputs": [
    {
     "data": {
      "text/plain": [
       "Y    77\n",
       "Name: SPEEDING, dtype: int64"
      ]
     },
     "execution_count": 56,
     "metadata": {},
     "output_type": "execute_result"
    }
   ],
   "source": [
    "ped_df['SPEEDING'].value_counts()"
   ]
  },
  {
   "cell_type": "code",
   "execution_count": 57,
   "metadata": {},
   "outputs": [
    {
     "data": {
      "text/plain": [
       "count     7665\n",
       "unique       2\n",
       "top          0\n",
       "freq      7588\n",
       "Name: SPEEDING, dtype: int64"
      ]
     },
     "execution_count": 57,
     "metadata": {},
     "output_type": "execute_result"
    }
   ],
   "source": [
    "ped_df['SPEEDING'] = ped_df['SPEEDING'].fillna(0)\n",
    "ped_df[\"SPEEDING\"].replace({\"Y\": \"1\"}, inplace=True)\n",
    "ped_df['SPEEDING'].describe()"
   ]
  },
  {
   "cell_type": "code",
   "execution_count": 58,
   "metadata": {},
   "outputs": [
    {
     "data": {
      "text/plain": [
       "N    4502\n",
       "0    2592\n",
       "Y     322\n",
       "1     248\n",
       "Name: UNDERINFL, dtype: int64"
      ]
     },
     "execution_count": 58,
     "metadata": {},
     "output_type": "execute_result"
    }
   ],
   "source": [
    "ped_df['UNDERINFL'].value_counts()"
   ]
  },
  {
   "cell_type": "code",
   "execution_count": 59,
   "metadata": {},
   "outputs": [
    {
     "data": {
      "text/plain": [
       "0    7094\n",
       "1     570\n",
       "Name: UNDERINFL, dtype: int64"
      ]
     },
     "execution_count": 59,
     "metadata": {},
     "output_type": "execute_result"
    }
   ],
   "source": [
    "ped_df[\"UNDERINFL\"].replace({\"N\": \"0\", \"Y\": \"1\"}, inplace=True)\n",
    "ped_df['UNDERINFL'].value_counts()"
   ]
  },
  {
   "cell_type": "code",
   "execution_count": 60,
   "metadata": {},
   "outputs": [
    {
     "data": {
      "text/plain": [
       "dtype('O')"
      ]
     },
     "execution_count": 60,
     "metadata": {},
     "output_type": "execute_result"
    }
   ],
   "source": [
    "ped_df['INCDATE'].dtype"
   ]
  },
  {
   "cell_type": "code",
   "execution_count": 61,
   "metadata": {},
   "outputs": [],
   "source": [
    "ped_df['INCDATE'] = ped_df['INCDATE'].map(lambda x: x.rstrip('00:00:00+00'))"
   ]
  },
  {
   "cell_type": "code",
   "execution_count": 62,
   "metadata": {},
   "outputs": [],
   "source": [
    "ped_df['INCDATE'] = pd.to_datetime(ped_df['INCDATE'])\n",
    "ped_df['Day of week'] = ped_df['INCDATE'].dt.day_name()"
   ]
  },
  {
   "cell_type": "code",
   "execution_count": 63,
   "metadata": {},
   "outputs": [],
   "source": [
    "ped_df.rename(columns={'ADDRTYPE':'Area', 'LOCATION':'Address', 'INCDATE':'Date', 'INATTENTIONIND':'Inattention','SEVERITYCODE':'Severity Code', 'FATALITIES':'Fatalities', 'UNDERINFL':'Under Influence', 'WEATHER':'Weather', 'ROADCOND':'Road Conditions', 'LIGHTCOND':'Light Conditions', 'SPEEDING':'Speeding','PEDROWNOTGRNT':'Pedestrian Rights Violation','day_of_week':'Day of week'}, inplace=True)"
   ]
  },
  {
   "cell_type": "markdown",
   "metadata": {},
   "source": [
    "Preparing data for basic analysis"
   ]
  },
  {
   "cell_type": "code",
   "execution_count": 64,
   "metadata": {},
   "outputs": [
    {
     "data": {
      "text/html": [
       "<div>\n",
       "<style scoped>\n",
       "    .dataframe tbody tr th:only-of-type {\n",
       "        vertical-align: middle;\n",
       "    }\n",
       "\n",
       "    .dataframe tbody tr th {\n",
       "        vertical-align: top;\n",
       "    }\n",
       "\n",
       "    .dataframe thead th {\n",
       "        text-align: right;\n",
       "    }\n",
       "</style>\n",
       "<table border=\"1\" class=\"dataframe\">\n",
       "  <thead>\n",
       "    <tr style=\"text-align: right;\">\n",
       "      <th></th>\n",
       "      <th>X</th>\n",
       "      <th>Y</th>\n",
       "      <th>Area</th>\n",
       "      <th>Address</th>\n",
       "      <th>Severity Code</th>\n",
       "      <th>Fatalities</th>\n",
       "      <th>Date</th>\n",
       "      <th>Inattention</th>\n",
       "      <th>Under Influence</th>\n",
       "      <th>Weather</th>\n",
       "      <th>Road Conditions</th>\n",
       "      <th>Light Conditions</th>\n",
       "      <th>Pedestrian Rights Violation</th>\n",
       "      <th>Speeding</th>\n",
       "      <th>Day of week</th>\n",
       "    </tr>\n",
       "  </thead>\n",
       "  <tbody>\n",
       "    <tr>\n",
       "      <th>1</th>\n",
       "      <td>-122.376467</td>\n",
       "      <td>47.543774</td>\n",
       "      <td>Block</td>\n",
       "      <td>35TH AVE SW BETWEEN SW MORGAN ST AND SW HOLLY ST</td>\n",
       "      <td>2</td>\n",
       "      <td>0</td>\n",
       "      <td>2006-01-15</td>\n",
       "      <td>NaN</td>\n",
       "      <td>0</td>\n",
       "      <td>Overcast</td>\n",
       "      <td>Dry</td>\n",
       "      <td>Dark - Street Lights On</td>\n",
       "      <td>NaN</td>\n",
       "      <td>NaN</td>\n",
       "      <td>Sunday</td>\n",
       "    </tr>\n",
       "    <tr>\n",
       "      <th>29</th>\n",
       "      <td>-122.320762</td>\n",
       "      <td>47.612963</td>\n",
       "      <td>Intersection</td>\n",
       "      <td>BROADWAY AND E UNION ST</td>\n",
       "      <td>2</td>\n",
       "      <td>0</td>\n",
       "      <td>2005-11-11</td>\n",
       "      <td>NaN</td>\n",
       "      <td>0</td>\n",
       "      <td>Raining</td>\n",
       "      <td>Wet</td>\n",
       "      <td>Daylight</td>\n",
       "      <td>Y</td>\n",
       "      <td>NaN</td>\n",
       "      <td>Friday</td>\n",
       "    </tr>\n",
       "    <tr>\n",
       "      <th>33</th>\n",
       "      <td>-122.333718</td>\n",
       "      <td>47.661387</td>\n",
       "      <td>Intersection</td>\n",
       "      <td>MERIDIAN AVE N AND N 45TH ST</td>\n",
       "      <td>2</td>\n",
       "      <td>0</td>\n",
       "      <td>2019-12-19</td>\n",
       "      <td>NaN</td>\n",
       "      <td>N</td>\n",
       "      <td>Raining</td>\n",
       "      <td>Wet</td>\n",
       "      <td>Dark - Street Lights On</td>\n",
       "      <td>NaN</td>\n",
       "      <td>NaN</td>\n",
       "      <td>Thursday</td>\n",
       "    </tr>\n",
       "    <tr>\n",
       "      <th>38</th>\n",
       "      <td>-122.345097</td>\n",
       "      <td>47.734128</td>\n",
       "      <td>Intersection</td>\n",
       "      <td>AURORA AVE N AND N 145TH ST</td>\n",
       "      <td>2</td>\n",
       "      <td>0</td>\n",
       "      <td>2005-12-21</td>\n",
       "      <td>NaN</td>\n",
       "      <td>0</td>\n",
       "      <td>Overcast</td>\n",
       "      <td>Wet</td>\n",
       "      <td>Dark - Street Lights On</td>\n",
       "      <td>NaN</td>\n",
       "      <td>NaN</td>\n",
       "      <td>Wednesday</td>\n",
       "    </tr>\n",
       "    <tr>\n",
       "      <th>106</th>\n",
       "      <td>-122.385455</td>\n",
       "      <td>47.562875</td>\n",
       "      <td>Intersection</td>\n",
       "      <td>42ND AVE SW AND SW OREGON ST</td>\n",
       "      <td>2</td>\n",
       "      <td>0</td>\n",
       "      <td>2019-12-21</td>\n",
       "      <td>Y</td>\n",
       "      <td>N</td>\n",
       "      <td>Overcast</td>\n",
       "      <td>Wet</td>\n",
       "      <td>Dark - Street Lights On</td>\n",
       "      <td>NaN</td>\n",
       "      <td>NaN</td>\n",
       "      <td>Saturday</td>\n",
       "    </tr>\n",
       "  </tbody>\n",
       "</table>\n",
       "</div>"
      ],
      "text/plain": [
       "              X          Y          Area  \\\n",
       "1   -122.376467  47.543774         Block   \n",
       "29  -122.320762  47.612963  Intersection   \n",
       "33  -122.333718  47.661387  Intersection   \n",
       "38  -122.345097  47.734128  Intersection   \n",
       "106 -122.385455  47.562875  Intersection   \n",
       "\n",
       "                                              Address Severity Code  \\\n",
       "1    35TH AVE SW BETWEEN SW MORGAN ST AND SW HOLLY ST             2   \n",
       "29                            BROADWAY AND E UNION ST             2   \n",
       "33                       MERIDIAN AVE N AND N 45TH ST             2   \n",
       "38                        AURORA AVE N AND N 145TH ST             2   \n",
       "106                      42ND AVE SW AND SW OREGON ST             2   \n",
       "\n",
       "     Fatalities       Date Inattention Under Influence   Weather  \\\n",
       "1             0 2006-01-15         NaN               0  Overcast   \n",
       "29            0 2005-11-11         NaN               0   Raining   \n",
       "33            0 2019-12-19         NaN               N   Raining   \n",
       "38            0 2005-12-21         NaN               0  Overcast   \n",
       "106           0 2019-12-21           Y               N  Overcast   \n",
       "\n",
       "    Road Conditions         Light Conditions Pedestrian Rights Violation  \\\n",
       "1               Dry  Dark - Street Lights On                         NaN   \n",
       "29              Wet                 Daylight                           Y   \n",
       "33              Wet  Dark - Street Lights On                         NaN   \n",
       "38              Wet  Dark - Street Lights On                         NaN   \n",
       "106             Wet  Dark - Street Lights On                         NaN   \n",
       "\n",
       "    Speeding Day of week  \n",
       "1        NaN      Sunday  \n",
       "29       NaN      Friday  \n",
       "33       NaN    Thursday  \n",
       "38       NaN   Wednesday  \n",
       "106      NaN    Saturday  "
      ]
     },
     "execution_count": 64,
     "metadata": {},
     "output_type": "execute_result"
    }
   ],
   "source": [
    "ped_df_basic=ped_df1.drop(columns=['COLLISIONTYPE'])\n",
    "ped_df_basic.rename(columns={'ADDRTYPE':'Area', 'LOCATION':'Address', 'INCDATE':'Date', 'INATTENTIONIND':'Inattention','SEVERITYCODE':'Severity Code', 'FATALITIES':'Fatalities', 'UNDERINFL':'Under Influence', 'WEATHER':'Weather', 'ROADCOND':'Road Conditions', 'LIGHTCOND':'Light Conditions', 'SPEEDING':'Speeding','PEDROWNOTGRNT':'Pedestrian Rights Violation','day_of_week':'Day of week'}, inplace=True)\n",
    "ped_df_basic['Date'] = ped_df_basic['Date'].map(lambda x: x.rstrip('00:00:00+00'))\n",
    "ped_df_basic['Date'] = pd.to_datetime(ped_df_basic['Date'])\n",
    "ped_df_basic['Day of week'] = ped_df_basic['Date'].dt.day_name()\n",
    "ped_df_basic.head()"
   ]
  },
  {
   "cell_type": "code",
   "execution_count": 65,
   "metadata": {},
   "outputs": [
    {
     "data": {
      "text/html": [
       "<div>\n",
       "<style scoped>\n",
       "    .dataframe tbody tr th:only-of-type {\n",
       "        vertical-align: middle;\n",
       "    }\n",
       "\n",
       "    .dataframe tbody tr th {\n",
       "        vertical-align: top;\n",
       "    }\n",
       "\n",
       "    .dataframe thead th {\n",
       "        text-align: right;\n",
       "    }\n",
       "</style>\n",
       "<table border=\"1\" class=\"dataframe\">\n",
       "  <thead>\n",
       "    <tr style=\"text-align: right;\">\n",
       "      <th></th>\n",
       "      <th>X</th>\n",
       "      <th>Y</th>\n",
       "      <th>Area</th>\n",
       "      <th>Address</th>\n",
       "      <th>Severity Code</th>\n",
       "      <th>Fatalities</th>\n",
       "      <th>Date</th>\n",
       "      <th>Inattention</th>\n",
       "      <th>Under Influence</th>\n",
       "      <th>Weather</th>\n",
       "      <th>Road Conditions</th>\n",
       "      <th>Light Conditions</th>\n",
       "      <th>Pedestrian Rights Violation</th>\n",
       "      <th>Speeding</th>\n",
       "      <th>Day of week</th>\n",
       "    </tr>\n",
       "  </thead>\n",
       "  <tbody>\n",
       "    <tr>\n",
       "      <th>1</th>\n",
       "      <td>-122.376467</td>\n",
       "      <td>47.543774</td>\n",
       "      <td>Block</td>\n",
       "      <td>35TH AVE SW BETWEEN SW MORGAN ST AND SW HOLLY ST</td>\n",
       "      <td>Injury</td>\n",
       "      <td>0</td>\n",
       "      <td>2006-01-15</td>\n",
       "      <td>No</td>\n",
       "      <td>No</td>\n",
       "      <td>Overcast</td>\n",
       "      <td>Dry</td>\n",
       "      <td>Dark - Street Lights On</td>\n",
       "      <td>No</td>\n",
       "      <td>No</td>\n",
       "      <td>Sunday</td>\n",
       "    </tr>\n",
       "    <tr>\n",
       "      <th>29</th>\n",
       "      <td>-122.320762</td>\n",
       "      <td>47.612963</td>\n",
       "      <td>Intersection</td>\n",
       "      <td>BROADWAY AND E UNION ST</td>\n",
       "      <td>Injury</td>\n",
       "      <td>0</td>\n",
       "      <td>2005-11-11</td>\n",
       "      <td>No</td>\n",
       "      <td>No</td>\n",
       "      <td>Raining</td>\n",
       "      <td>Wet</td>\n",
       "      <td>Daylight</td>\n",
       "      <td>Yes</td>\n",
       "      <td>No</td>\n",
       "      <td>Friday</td>\n",
       "    </tr>\n",
       "    <tr>\n",
       "      <th>33</th>\n",
       "      <td>-122.333718</td>\n",
       "      <td>47.661387</td>\n",
       "      <td>Intersection</td>\n",
       "      <td>MERIDIAN AVE N AND N 45TH ST</td>\n",
       "      <td>Injury</td>\n",
       "      <td>0</td>\n",
       "      <td>2019-12-19</td>\n",
       "      <td>No</td>\n",
       "      <td>No</td>\n",
       "      <td>Raining</td>\n",
       "      <td>Wet</td>\n",
       "      <td>Dark - Street Lights On</td>\n",
       "      <td>No</td>\n",
       "      <td>No</td>\n",
       "      <td>Thursday</td>\n",
       "    </tr>\n",
       "    <tr>\n",
       "      <th>38</th>\n",
       "      <td>-122.345097</td>\n",
       "      <td>47.734128</td>\n",
       "      <td>Intersection</td>\n",
       "      <td>AURORA AVE N AND N 145TH ST</td>\n",
       "      <td>Injury</td>\n",
       "      <td>0</td>\n",
       "      <td>2005-12-21</td>\n",
       "      <td>No</td>\n",
       "      <td>No</td>\n",
       "      <td>Overcast</td>\n",
       "      <td>Wet</td>\n",
       "      <td>Dark - Street Lights On</td>\n",
       "      <td>No</td>\n",
       "      <td>No</td>\n",
       "      <td>Wednesday</td>\n",
       "    </tr>\n",
       "    <tr>\n",
       "      <th>106</th>\n",
       "      <td>-122.385455</td>\n",
       "      <td>47.562875</td>\n",
       "      <td>Intersection</td>\n",
       "      <td>42ND AVE SW AND SW OREGON ST</td>\n",
       "      <td>Injury</td>\n",
       "      <td>0</td>\n",
       "      <td>2019-12-21</td>\n",
       "      <td>Yes</td>\n",
       "      <td>No</td>\n",
       "      <td>Overcast</td>\n",
       "      <td>Wet</td>\n",
       "      <td>Dark - Street Lights On</td>\n",
       "      <td>No</td>\n",
       "      <td>No</td>\n",
       "      <td>Saturday</td>\n",
       "    </tr>\n",
       "  </tbody>\n",
       "</table>\n",
       "</div>"
      ],
      "text/plain": [
       "              X          Y          Area  \\\n",
       "1   -122.376467  47.543774         Block   \n",
       "29  -122.320762  47.612963  Intersection   \n",
       "33  -122.333718  47.661387  Intersection   \n",
       "38  -122.345097  47.734128  Intersection   \n",
       "106 -122.385455  47.562875  Intersection   \n",
       "\n",
       "                                              Address Severity Code  \\\n",
       "1    35TH AVE SW BETWEEN SW MORGAN ST AND SW HOLLY ST        Injury   \n",
       "29                            BROADWAY AND E UNION ST        Injury   \n",
       "33                       MERIDIAN AVE N AND N 45TH ST        Injury   \n",
       "38                        AURORA AVE N AND N 145TH ST        Injury   \n",
       "106                      42ND AVE SW AND SW OREGON ST        Injury   \n",
       "\n",
       "     Fatalities       Date Inattention Under Influence   Weather  \\\n",
       "1             0 2006-01-15          No              No  Overcast   \n",
       "29            0 2005-11-11          No              No   Raining   \n",
       "33            0 2019-12-19          No              No   Raining   \n",
       "38            0 2005-12-21          No              No  Overcast   \n",
       "106           0 2019-12-21         Yes              No  Overcast   \n",
       "\n",
       "    Road Conditions         Light Conditions Pedestrian Rights Violation  \\\n",
       "1               Dry  Dark - Street Lights On                          No   \n",
       "29              Wet                 Daylight                         Yes   \n",
       "33              Wet  Dark - Street Lights On                          No   \n",
       "38              Wet  Dark - Street Lights On                          No   \n",
       "106             Wet  Dark - Street Lights On                          No   \n",
       "\n",
       "    Speeding Day of week  \n",
       "1         No      Sunday  \n",
       "29        No      Friday  \n",
       "33        No    Thursday  \n",
       "38        No   Wednesday  \n",
       "106       No    Saturday  "
      ]
     },
     "execution_count": 65,
     "metadata": {},
     "output_type": "execute_result"
    }
   ],
   "source": [
    "ped_df_basic['Inattention'] = ped_df_basic['Inattention'].fillna('No')\n",
    "ped_df_basic['Inattention'].replace({\"Y\": \"Yes\"}, inplace=True)\n",
    "ped_df_basic['Severity Code'].replace({\"3\": \"Fatal\", \"2b\": \"Seroius injury\", \"2\":\"Injury\", \"1\":\"Property damage\"}, inplace=True)\n",
    "ped_df_basic['Under Influence'].replace({\"Y\": \"Yes\",\"1\":\"Yes\",\"N\":\"No\",\"0\":\"No\"}, inplace=True)\n",
    "ped_df_basic['Pedestrian Rights Violation'] = ped_df_basic['Pedestrian Rights Violation'].fillna('No')\n",
    "ped_df_basic['Pedestrian Rights Violation'].replace({\"Y\": \"Yes\"}, inplace=True)\n",
    "ped_df_basic['Speeding'] = ped_df_basic['Speeding'].fillna('No')\n",
    "ped_df_basic['Speeding'].replace({\"Y\": \"Yes\"}, inplace=True)\n",
    "ped_df_basic.head()"
   ]
  },
  {
   "cell_type": "markdown",
   "metadata": {},
   "source": [
    "<h1> Histogram plots for basic analysis</h1>\n",
    "- all types of accidents with pedestians (fatal, injuries and property damage)"
   ]
  },
  {
   "cell_type": "code",
   "execution_count": 66,
   "metadata": {},
   "outputs": [
    {
     "data": {
      "text/plain": [
       "Text(0.5, 0, 'Number of accidents')"
      ]
     },
     "execution_count": 66,
     "metadata": {},
     "output_type": "execute_result"
    },
    {
     "data": {
      "image/png": "[encoded data removed]",
      "text/plain": [
       "<Figure size 720x432 with 1 Axes>"
      ]
     },
     "metadata": {
      "needs_background": "light"
     },
     "output_type": "display_data"
    }
   ],
   "source": [
    "ped_df_basic['Address'].value_counts().plot(kind='hist',\n",
    "                                            figsize=(10, 6),\n",
    "                                            bins=15,\n",
    "                                            color=['coral'])\n",
    "plt.title('Histogram of frequency of accidents with pedestrians in a given place')\n",
    "plt.xlabel('Number of accidents')"
   ]
  },
  {
   "cell_type": "code",
   "execution_count": 67,
   "metadata": {},
   "outputs": [
    {
     "data": {
      "text/plain": [
       "5TH AVE AND SPRING ST              27\n",
       "BROADWAY E AND E OLIVE WAY         26\n",
       "3RD AVE AND PIKE ST                26\n",
       "BROADWAY AND E PIKE ST             24\n",
       "DENNY WAY AND STEWART ST           23\n",
       "ROOSEVELT WAY NE AND NE 45TH ST    21\n",
       "BOREN AVE AND PIKE ST              20\n",
       "MERCER ST AND QUEEN ANNE AVE N     19\n",
       "12TH AVE AND E MADISON ST          19\n",
       "RAINIER AVE S AND S BAYVIEW ST     18\n",
       "Name: Address, dtype: int64"
      ]
     },
     "execution_count": 67,
     "metadata": {},
     "output_type": "execute_result"
    }
   ],
   "source": [
    "address_s=ped_df_basic['Address'].value_counts()\n",
    "address_s.head(10)"
   ]
  },
  {
   "cell_type": "code",
   "execution_count": 68,
   "metadata": {},
   "outputs": [
    {
     "data": {
      "text/plain": [
       "Text(0.5, 0, 'Number of accidents')"
      ]
     },
     "execution_count": 68,
     "metadata": {},
     "output_type": "execute_result"
    },
    {
     "data": {
      "image/png": "[encoded data removed]",
      "text/plain": [
       "<Figure size 720x432 with 1 Axes>"
      ]
     },
     "metadata": {
      "needs_background": "light"
     },
     "output_type": "display_data"
    }
   ],
   "source": [
    "ped_df_basic['Date'].value_counts().plot(kind='hist',\n",
    "                                            figsize=(10, 6),\n",
    "                                            bins=15,\n",
    "                                            color=['coral'])\n",
    "plt.title('Histogram of frequency of accidents with pedestrians on a given day')\n",
    "plt.xlabel('Number of accidents')"
   ]
  },
  {
   "cell_type": "code",
   "execution_count": 69,
   "metadata": {},
   "outputs": [
    {
     "data": {
      "text/plain": [
       "2008-12-12    11\n",
       "2006-11-02    10\n",
       "2019-12-20    10\n",
       "2007-01-05     9\n",
       "2012-11-19     9\n",
       "Name: Date, dtype: int64"
      ]
     },
     "execution_count": 69,
     "metadata": {},
     "output_type": "execute_result"
    }
   ],
   "source": [
    "date_s=ped_df_basic['Date'].value_counts()\n",
    "date_s.head()"
   ]
  },
  {
   "cell_type": "markdown",
   "metadata": {},
   "source": [
    "<h1> Bar plots for basic analysis </h1> \n",
    "- all types of accidents with pedestians (fatal, injuries and property damage)"
   ]
  },
  {
   "cell_type": "code",
   "execution_count": 70,
   "metadata": {},
   "outputs": [
    {
     "data": {
      "text/plain": [
       "Text(0, 0.5, 'Number of accidents')"
      ]
     },
     "execution_count": 70,
     "metadata": {},
     "output_type": "execute_result"
    },
    {
     "data": {
      "image/png": "[encoded data removed]",
      "text/plain": [
       "<Figure size 432x288 with 1 Axes>"
      ]
     },
     "metadata": {
      "needs_background": "light"
     },
     "output_type": "display_data"
    }
   ],
   "source": [
    "ped_df_basic['Area'].value_counts().plot(kind='bar',\n",
    "                                         color=['mediumseagreen'])\n",
    "for i in range(len(ped_df_basic['Area'].value_counts())):\n",
    "    plt.annotate(ped_df_basic['Area'].value_counts()[i], (-0.1+i, ped_df_basic['Area'].value_counts()[i]))\n",
    "\n",
    "plt.title('Types of areas where accidents with pedestrian were most frequent')\n",
    "plt.xlabel('Types of areas')\n",
    "plt.ylabel('Number of accidents')"
   ]
  },
  {
   "cell_type": "code",
   "execution_count": 71,
   "metadata": {},
   "outputs": [
    {
     "data": {
      "text/plain": [
       "Intersection    5340\n",
       "Block           2280\n",
       "Alley             40\n",
       "Name: Area, dtype: int64"
      ]
     },
     "execution_count": 71,
     "metadata": {},
     "output_type": "execute_result"
    }
   ],
   "source": [
    "ped_df_basic['Area'].value_counts()"
   ]
  },
  {
   "cell_type": "code",
   "execution_count": 145,
   "metadata": {},
   "outputs": [
    {
     "data": {
      "text/plain": [
       "Text(0, 0.5, 'Number of accidents')"
      ]
     },
     "execution_count": 145,
     "metadata": {},
     "output_type": "execute_result"
    },
    {
     "data": {
      "image/png": "[encoded data removed]",
      "text/plain": [
       "<Figure size 432x288 with 1 Axes>"
      ]
     },
     "metadata": {
      "needs_background": "light"
     },
     "output_type": "display_data"
    }
   ],
   "source": [
    "ped_df_basic['Severity Code'].value_counts().plot(kind='bar',\n",
    "                                         color=['mediumseagreen'])\n",
    "for i in range(len(ped_df_basic['Severity Code'].value_counts())):\n",
    "    plt.annotate(ped_df_basic['Severity Code'].value_counts()[i], (-0.1+i, ped_df_basic['Severity Code'].value_counts()[i]))\n",
    "    \n",
    "plt.title('Outcomes of accidents with pedestrians')\n",
    "plt.xlabel('Accidents')\n",
    "plt.ylabel('Number of accidents')"
   ]
  },
  {
   "cell_type": "code",
   "execution_count": 73,
   "metadata": {},
   "outputs": [
    {
     "data": {
      "text/plain": [
       "Injury             6006\n",
       "Seroius injury      853\n",
       "Property damage     677\n",
       "Fatal               129\n",
       "Name: Severity Code, dtype: int64"
      ]
     },
     "execution_count": 73,
     "metadata": {},
     "output_type": "execute_result"
    }
   ],
   "source": [
    "ped_df_basic['Severity Code'].value_counts()"
   ]
  },
  {
   "cell_type": "code",
   "execution_count": 146,
   "metadata": {},
   "outputs": [
    {
     "data": {
      "text/plain": [
       "Text(0, 0.5, 'Number of accidents')"
      ]
     },
     "execution_count": 146,
     "metadata": {},
     "output_type": "execute_result"
    },
    {
     "data": {
      "image/png": "[encoded data removed]",
      "text/plain": [
       "<Figure size 432x288 with 1 Axes>"
      ]
     },
     "metadata": {
      "needs_background": "light"
     },
     "output_type": "display_data"
    }
   ],
   "source": [
    "ped_df_basic['Inattention'].value_counts().plot(kind='bar',\n",
    "                                         color=['mediumseagreen'])\n",
    "for i in range(len(ped_df_basic['Inattention'].value_counts())):\n",
    "    plt.annotate(ped_df_basic['Inattention'].value_counts()[i], (-0.1+i, ped_df_basic['Inattention'].value_counts()[i]))\n",
    "plt.title('Inattention of driver')\n",
    "plt.ylabel('Number of accidents')"
   ]
  },
  {
   "cell_type": "code",
   "execution_count": 75,
   "metadata": {},
   "outputs": [
    {
     "data": {
      "text/plain": [
       "No     6607\n",
       "Yes    1058\n",
       "Name: Inattention, dtype: int64"
      ]
     },
     "execution_count": 75,
     "metadata": {},
     "output_type": "execute_result"
    }
   ],
   "source": [
    "ped_df_basic['Inattention'].value_counts()"
   ]
  },
  {
   "cell_type": "code",
   "execution_count": 76,
   "metadata": {},
   "outputs": [
    {
     "name": "stdout",
     "output_type": "stream",
     "text": [
      "Percent of accidents not caused by driver's inattention:86.20\n",
      "Percent of accidents caused by driver's inattention:13.80\n"
     ]
    }
   ],
   "source": [
    "print(\"Percent of accidents not caused by driver's inattention:\" '%.2f' % (6607/(6607+1058)*100))\n",
    "print(\"Percent of accidents caused by driver's inattention:\" '%.2f' % (1058/(6607+1058)*100))\n"
   ]
  },
  {
   "cell_type": "code",
   "execution_count": 77,
   "metadata": {},
   "outputs": [
    {
     "data": {
      "text/plain": [
       "Text(0.5, 1.0, 'Inattention of driver')"
      ]
     },
     "execution_count": 77,
     "metadata": {},
     "output_type": "execute_result"
    },
    {
     "data": {
      "image/png": "[encoded data removed]",
      "text/plain": [
       "<Figure size 432x288 with 1 Axes>"
      ]
     },
     "metadata": {},
     "output_type": "display_data"
    }
   ],
   "source": [
    "ped_df_basic['Inattention'].value_counts().plot(kind='pie')\n",
    "plt.title('Inattention of driver')\n",
    "#plt.ylabel('Number of accidents')"
   ]
  },
  {
   "cell_type": "code",
   "execution_count": 147,
   "metadata": {},
   "outputs": [
    {
     "data": {
      "text/plain": [
       "Text(0, 0.5, 'Number of accidents')"
      ]
     },
     "execution_count": 147,
     "metadata": {},
     "output_type": "execute_result"
    },
    {
     "data": {
      "image/png": "[encoded data removed]",
      "text/plain": [
       "<Figure size 432x288 with 1 Axes>"
      ]
     },
     "metadata": {
      "needs_background": "light"
     },
     "output_type": "display_data"
    }
   ],
   "source": [
    "ped_df_basic['Under Influence'].value_counts().plot(kind='bar',\n",
    "                                         color=['mediumseagreen'])\n",
    "for i in range(len(ped_df_basic['Under Influence'].value_counts())):\n",
    "    plt.annotate(ped_df_basic['Under Influence'].value_counts()[i], (-0.1+i, ped_df_basic['Under Influence'].value_counts()[i]))\n",
    "plt.title('Under Influence')\n",
    "plt.ylabel('Number of accidents')"
   ]
  },
  {
   "cell_type": "code",
   "execution_count": 79,
   "metadata": {},
   "outputs": [
    {
     "data": {
      "text/plain": [
       "No     7094\n",
       "Yes     570\n",
       "Name: Under Influence, dtype: int64"
      ]
     },
     "execution_count": 79,
     "metadata": {},
     "output_type": "execute_result"
    }
   ],
   "source": [
    "ped_df_basic['Under Influence'].value_counts()"
   ]
  },
  {
   "cell_type": "code",
   "execution_count": 80,
   "metadata": {},
   "outputs": [
    {
     "name": "stdout",
     "output_type": "stream",
     "text": [
      "Percent of accidents when driver was not under influence:92.56\n",
      "Percent of accidents when driver not under influence:7.44\n"
     ]
    }
   ],
   "source": [
    "print(\"Percent of accidents when driver was not under influence:\" '%.2f' % (7094/(7094+570)*100))\n",
    "print(\"Percent of accidents when driver not under influence:\" '%.2f' % (570/(7094+570)*100))"
   ]
  },
  {
   "cell_type": "code",
   "execution_count": 81,
   "metadata": {},
   "outputs": [
    {
     "data": {
      "text/plain": [
       "<matplotlib.axes._subplots.AxesSubplot at 0x1f0c3de0cf8>"
      ]
     },
     "execution_count": 81,
     "metadata": {},
     "output_type": "execute_result"
    },
    {
     "data": {
      "image/png": "[encoded data removed]",
      "text/plain": [
       "<Figure size 432x288 with 1 Axes>"
      ]
     },
     "metadata": {},
     "output_type": "display_data"
    }
   ],
   "source": [
    "ped_df_basic['Under Influence'].value_counts().plot(kind='pie')"
   ]
  },
  {
   "cell_type": "code",
   "execution_count": 150,
   "metadata": {},
   "outputs": [
    {
     "data": {
      "text/plain": [
       "Text(0, 0.5, 'Number of accidents')"
      ]
     },
     "execution_count": 150,
     "metadata": {},
     "output_type": "execute_result"
    },
    {
     "data": {
      "image/png": "[encoded data removed]",
      "text/plain": [
       "<Figure size 432x288 with 1 Axes>"
      ]
     },
     "metadata": {
      "needs_background": "light"
     },
     "output_type": "display_data"
    }
   ],
   "source": [
    "ped_df_basic['Weather'].value_counts().plot(kind='bar',\n",
    "                                         color=['mediumseagreen'])\n",
    "for i in range(len(ped_df_basic['Weather'].value_counts())):\n",
    "    plt.annotate(ped_df_basic['Weather'].value_counts()[i], (0.1+i, ped_df_basic['Weather'].value_counts()[i]))\n",
    "plt.title('Weather conditions')\n",
    "plt.ylabel('Number of accidents')"
   ]
  },
  {
   "cell_type": "code",
   "execution_count": 83,
   "metadata": {},
   "outputs": [
    {
     "data": {
      "text/plain": [
       "Clear                       4446\n",
       "Raining                     1832\n",
       "Overcast                    1105\n",
       "Unknown                      193\n",
       "Snowing                       25\n",
       "Other                         23\n",
       "Fog/Smog/Smoke                21\n",
       "Sleet/Hail/Freezing Rain       6\n",
       "Severe Crosswind               1\n",
       "Blowing Sand/Dirt              1\n",
       "Name: Weather, dtype: int64"
      ]
     },
     "execution_count": 83,
     "metadata": {},
     "output_type": "execute_result"
    }
   ],
   "source": [
    "ped_df_basic['Weather'].value_counts()"
   ]
  },
  {
   "cell_type": "code",
   "execution_count": 156,
   "metadata": {},
   "outputs": [
    {
     "data": {
      "text/plain": [
       "Text(0, 0.5, 'Number of accidents')"
      ]
     },
     "execution_count": 156,
     "metadata": {},
     "output_type": "execute_result"
    },
    {
     "data": {
      "image/png": "[encoded data removed]",
      "text/plain": [
       "<Figure size 432x288 with 1 Axes>"
      ]
     },
     "metadata": {
      "needs_background": "light"
     },
     "output_type": "display_data"
    }
   ],
   "source": [
    "ped_df_basic['Road Conditions'].value_counts().plot(kind='bar',\n",
    "                                         color=['mediumseagreen'])\n",
    "for i in range(len(ped_df_basic['Road Conditions'].value_counts())):\n",
    "    plt.annotate(ped_df_basic['Road Conditions'].value_counts()[i], (-0.1+i, ped_df_basic['Road Conditions'].value_counts()[i]))\n",
    "plt.title('Road Conditions')\n",
    "plt.ylabel('Number of accidents')"
   ]
  },
  {
   "cell_type": "code",
   "execution_count": 85,
   "metadata": {},
   "outputs": [
    {
     "data": {
      "text/plain": [
       "Dry               5022\n",
       "Wet               2389\n",
       "Unknown            197\n",
       "Snow/Slush          28\n",
       "Ice                 16\n",
       "Other                2\n",
       "Standing Water       2\n",
       "Sand/Mud/Dirt        2\n",
       "Name: Road Conditions, dtype: int64"
      ]
     },
     "execution_count": 85,
     "metadata": {},
     "output_type": "execute_result"
    }
   ],
   "source": [
    "ped_df_basic['Road Conditions'].value_counts()"
   ]
  },
  {
   "cell_type": "code",
   "execution_count": 160,
   "metadata": {},
   "outputs": [
    {
     "data": {
      "text/plain": [
       "Text(0, 0.5, 'Number of accidents')"
      ]
     },
     "execution_count": 160,
     "metadata": {},
     "output_type": "execute_result"
    },
    {
     "data": {
      "image/png": "[encoded data removed]",
      "text/plain": [
       "<Figure size 432x288 with 1 Axes>"
      ]
     },
     "metadata": {
      "needs_background": "light"
     },
     "output_type": "display_data"
    }
   ],
   "source": [
    "ped_df_basic['Light Conditions'].value_counts().plot(kind='bar',\n",
    "                                                     color=['mediumseagreen'])\n",
    "for i in range(len(ped_df_basic['Light Conditions'].value_counts())):\n",
    "    plt.annotate(ped_df_basic['Light Conditions'].value_counts()[i], (-0.1+i, ped_df_basic['Light Conditions'].value_counts()[i]))\n",
    "plt.title('Light Conditions')\n",
    "plt.ylabel('Number of accidents')"
   ]
  },
  {
   "cell_type": "code",
   "execution_count": 87,
   "metadata": {},
   "outputs": [
    {
     "data": {
      "text/plain": [
       "Daylight                    4430\n",
       "Dark - Street Lights On     2534\n",
       "Dusk                         266\n",
       "Dawn                         162\n",
       "Unknown                      127\n",
       "Dark - No Street Lights       65\n",
       "Dark - Street Lights Off      59\n",
       "Other                          8\n",
       "Dark - Unknown Lighting        3\n",
       "Name: Light Conditions, dtype: int64"
      ]
     },
     "execution_count": 87,
     "metadata": {},
     "output_type": "execute_result"
    }
   ],
   "source": [
    "ped_df_basic['Light Conditions'].value_counts()"
   ]
  },
  {
   "cell_type": "code",
   "execution_count": 161,
   "metadata": {},
   "outputs": [
    {
     "data": {
      "text/plain": [
       "Text(0, 0.5, 'Number of accidents')"
      ]
     },
     "execution_count": 161,
     "metadata": {},
     "output_type": "execute_result"
    },
    {
     "data": {
      "image/png": "[encoded data removed]",
      "text/plain": [
       "<Figure size 432x288 with 1 Axes>"
      ]
     },
     "metadata": {
      "needs_background": "light"
     },
     "output_type": "display_data"
    }
   ],
   "source": [
    "ped_df_basic['Pedestrian Rights Violation'].value_counts().plot(kind='bar',\n",
    "                                         color=['mediumseagreen'])\n",
    "for i in range(len(ped_df_basic['Pedestrian Rights Violation'].value_counts())):\n",
    "    plt.annotate(ped_df_basic['Pedestrian Rights Violation'].value_counts()[i], (-0.1+i, ped_df_basic['Pedestrian Rights Violation'].value_counts()[i]))\n",
    "plt.title('Pedestrian Rights Violation')\n",
    "plt.ylabel('Number of accidents')"
   ]
  },
  {
   "cell_type": "code",
   "execution_count": 89,
   "metadata": {},
   "outputs": [
    {
     "data": {
      "text/plain": [
       "No     4404\n",
       "Yes    3261\n",
       "Name: Pedestrian Rights Violation, dtype: int64"
      ]
     },
     "execution_count": 89,
     "metadata": {},
     "output_type": "execute_result"
    }
   ],
   "source": [
    "ped_df_basic['Pedestrian Rights Violation'].value_counts()"
   ]
  },
  {
   "cell_type": "code",
   "execution_count": 90,
   "metadata": {},
   "outputs": [
    {
     "name": "stdout",
     "output_type": "stream",
     "text": [
      "Percent of accidents when the pedestrian rights violation was not the factor:57.46\n",
      "Percent of accidents when the pedestrian rights violation was the factor:42.54\n"
     ]
    }
   ],
   "source": [
    "print(\"Percent of accidents when the pedestrian rights violation was not the factor:\" '%.2f' % (4404/(4404+3261)*100))\n",
    "print(\"Percent of accidents when the pedestrian rights violation was the factor:\" '%.2f' % (3261/(4404+3261)*100))"
   ]
  },
  {
   "cell_type": "code",
   "execution_count": 91,
   "metadata": {},
   "outputs": [
    {
     "data": {
      "text/plain": [
       "<matplotlib.axes._subplots.AxesSubplot at 0x1f0c19708d0>"
      ]
     },
     "execution_count": 91,
     "metadata": {},
     "output_type": "execute_result"
    },
    {
     "data": {
      "image/png": "[encoded data removed]",
      "text/plain": [
       "<Figure size 432x288 with 1 Axes>"
      ]
     },
     "metadata": {},
     "output_type": "display_data"
    }
   ],
   "source": [
    "ped_df_basic['Pedestrian Rights Violation'].value_counts().plot(kind='pie')"
   ]
  },
  {
   "cell_type": "code",
   "execution_count": 162,
   "metadata": {},
   "outputs": [
    {
     "data": {
      "text/plain": [
       "Text(0, 0.5, 'Number of accidents')"
      ]
     },
     "execution_count": 162,
     "metadata": {},
     "output_type": "execute_result"
    },
    {
     "data": {
      "image/png": "[encoded data removed]",
      "text/plain": [
       "<Figure size 432x288 with 1 Axes>"
      ]
     },
     "metadata": {
      "needs_background": "light"
     },
     "output_type": "display_data"
    }
   ],
   "source": [
    "ped_df_basic['Speeding'].value_counts().plot(kind='bar',\n",
    "                                         color=['mediumseagreen'])\n",
    "for i in range(len(ped_df_basic['Speeding'].value_counts())):\n",
    "    plt.annotate(ped_df_basic['Speeding'].value_counts()[i], (-0.1+i, ped_df_basic['Speeding'].value_counts()[i]))\n",
    "plt.title('Speeding')\n",
    "plt.ylabel('Number of accidents')"
   ]
  },
  {
   "cell_type": "code",
   "execution_count": 93,
   "metadata": {},
   "outputs": [
    {
     "data": {
      "text/plain": [
       "No     7588\n",
       "Yes      77\n",
       "Name: Speeding, dtype: int64"
      ]
     },
     "execution_count": 93,
     "metadata": {},
     "output_type": "execute_result"
    }
   ],
   "source": [
    "ped_df_basic['Speeding'].value_counts()"
   ]
  },
  {
   "cell_type": "code",
   "execution_count": 94,
   "metadata": {},
   "outputs": [
    {
     "name": "stdout",
     "output_type": "stream",
     "text": [
      "Percent of accidents when speeding was not the factor:99.00\n",
      "Percent of accidents when speeding was the factor:1.00\n"
     ]
    }
   ],
   "source": [
    "print(\"Percent of accidents when speeding was not the factor:\" '%.2f' % (7588/(77+7588)*100))\n",
    "print(\"Percent of accidents when speeding was the factor:\" '%.2f' % (77/(77+7588)*100))"
   ]
  },
  {
   "cell_type": "code",
   "execution_count": 95,
   "metadata": {},
   "outputs": [
    {
     "data": {
      "text/plain": [
       "<matplotlib.axes._subplots.AxesSubplot at 0x1f0ba42ab70>"
      ]
     },
     "execution_count": 95,
     "metadata": {},
     "output_type": "execute_result"
    },
    {
     "data": {
      "image/png": "[encoded data removed]",
      "text/plain": [
       "<Figure size 432x288 with 1 Axes>"
      ]
     },
     "metadata": {},
     "output_type": "display_data"
    }
   ],
   "source": [
    "ped_df_basic['Speeding'].value_counts().plot(kind='pie')"
   ]
  },
  {
   "cell_type": "code",
   "execution_count": 164,
   "metadata": {},
   "outputs": [
    {
     "data": {
      "text/plain": [
       "Text(0, 0.5, 'Number of accidents')"
      ]
     },
     "execution_count": 164,
     "metadata": {},
     "output_type": "execute_result"
    },
    {
     "data": {
      "image/png": "[encoded data removed]",
      "text/plain": [
       "<Figure size 432x288 with 1 Axes>"
      ]
     },
     "metadata": {
      "needs_background": "light"
     },
     "output_type": "display_data"
    }
   ],
   "source": [
    "ped_df_basic['Day of week'].value_counts().plot(kind='bar',\n",
    "                                         color=['mediumseagreen'])\n",
    "for i in range(len(ped_df_basic['Day of week'].value_counts())):\n",
    "    plt.annotate(ped_df_basic['Day of week'].value_counts()[i], (-0.2+i, ped_df_basic['Day of week'].value_counts()[i]))\n",
    "plt.title('Day of week')\n",
    "plt.ylabel('Number of accidents')"
   ]
  },
  {
   "cell_type": "code",
   "execution_count": 97,
   "metadata": {},
   "outputs": [
    {
     "data": {
      "text/plain": [
       "Friday       1312\n",
       "Tuesday      1231\n",
       "Thursday     1220\n",
       "Wednesday    1211\n",
       "Monday       1165\n",
       "Saturday      848\n",
       "Sunday        678\n",
       "Name: Day of week, dtype: int64"
      ]
     },
     "execution_count": 97,
     "metadata": {},
     "output_type": "execute_result"
    }
   ],
   "source": [
    "ped_df_basic['Day of week'].value_counts()"
   ]
  },
  {
   "cell_type": "code",
   "execution_count": 98,
   "metadata": {},
   "outputs": [
    {
     "data": {
      "text/plain": [
       "5TH AVE AND SPRING ST               27\n",
       "BROADWAY E AND E OLIVE WAY          26\n",
       "3RD AVE AND PIKE ST                 26\n",
       "BROADWAY AND E PIKE ST              24\n",
       "DENNY WAY AND STEWART ST            23\n",
       "ROOSEVELT WAY NE AND NE 45TH ST     21\n",
       "BOREN AVE AND PIKE ST               20\n",
       "MERCER ST AND QUEEN ANNE AVE N      19\n",
       "12TH AVE AND E MADISON ST           19\n",
       "RAINIER AVE S AND S BAYVIEW ST      18\n",
       "RAINIER AVE S AND S HENDERSON ST    18\n",
       "5TH AVE S AND S JACKSON ST          18\n",
       "BROOKLYN AVE NE AND NE 45TH ST      18\n",
       "5TH AVE AND PIKE ST                 18\n",
       "BROADWAY AND E PINE ST              17\n",
       "11TH AVE NE AND NE 45TH ST          17\n",
       "6TH AVE AND SPRING ST               17\n",
       "4TH AVE AND PINE ST                 16\n",
       "23RD AVE AND E JEFFERSON ST         16\n",
       "RAINIER AVE S AND S ORCAS ST        16\n",
       "Name: Address, dtype: int64"
      ]
     },
     "execution_count": 98,
     "metadata": {},
     "output_type": "execute_result"
    }
   ],
   "source": [
    "acc_df = ped_df_basic['Address'].value_counts()\n",
    "acc_df.head(20)"
   ]
  },
  {
   "cell_type": "code",
   "execution_count": 99,
   "metadata": {},
   "outputs": [
    {
     "data": {
      "text/html": [
       "<div>\n",
       "<style scoped>\n",
       "    .dataframe tbody tr th:only-of-type {\n",
       "        vertical-align: middle;\n",
       "    }\n",
       "\n",
       "    .dataframe tbody tr th {\n",
       "        vertical-align: top;\n",
       "    }\n",
       "\n",
       "    .dataframe thead th {\n",
       "        text-align: right;\n",
       "    }\n",
       "</style>\n",
       "<table border=\"1\" class=\"dataframe\">\n",
       "  <thead>\n",
       "    <tr style=\"text-align: right;\">\n",
       "      <th></th>\n",
       "      <th>X</th>\n",
       "      <th>Y</th>\n",
       "      <th>Area</th>\n",
       "      <th>Address</th>\n",
       "      <th>Severity Code</th>\n",
       "      <th>Fatalities</th>\n",
       "      <th>Date</th>\n",
       "      <th>Inattention</th>\n",
       "      <th>Under Influence</th>\n",
       "      <th>Weather</th>\n",
       "      <th>Road Conditions</th>\n",
       "      <th>Light Conditions</th>\n",
       "      <th>Pedestrian Rights Violation</th>\n",
       "      <th>Speeding</th>\n",
       "      <th>Day of week</th>\n",
       "    </tr>\n",
       "  </thead>\n",
       "  <tbody>\n",
       "    <tr>\n",
       "      <th>1</th>\n",
       "      <td>-122.376467</td>\n",
       "      <td>47.543774</td>\n",
       "      <td>Block</td>\n",
       "      <td>35TH_AVE_SW_BETWEEN_SW_MORGAN_ST_AND_SW_HOLLY_ST</td>\n",
       "      <td>Injury</td>\n",
       "      <td>0</td>\n",
       "      <td>2006-01-15</td>\n",
       "      <td>No</td>\n",
       "      <td>No</td>\n",
       "      <td>Overcast</td>\n",
       "      <td>Dry</td>\n",
       "      <td>Dark_-_Street_Lights_On</td>\n",
       "      <td>No</td>\n",
       "      <td>No</td>\n",
       "      <td>Sunday</td>\n",
       "    </tr>\n",
       "    <tr>\n",
       "      <th>29</th>\n",
       "      <td>-122.320762</td>\n",
       "      <td>47.612963</td>\n",
       "      <td>Intersection</td>\n",
       "      <td>BROADWAY_AND_E_UNION_ST</td>\n",
       "      <td>Injury</td>\n",
       "      <td>0</td>\n",
       "      <td>2005-11-11</td>\n",
       "      <td>No</td>\n",
       "      <td>No</td>\n",
       "      <td>Raining</td>\n",
       "      <td>Wet</td>\n",
       "      <td>Daylight</td>\n",
       "      <td>Yes</td>\n",
       "      <td>No</td>\n",
       "      <td>Friday</td>\n",
       "    </tr>\n",
       "    <tr>\n",
       "      <th>33</th>\n",
       "      <td>-122.333718</td>\n",
       "      <td>47.661387</td>\n",
       "      <td>Intersection</td>\n",
       "      <td>MERIDIAN_AVE_N_AND_N_45TH_ST</td>\n",
       "      <td>Injury</td>\n",
       "      <td>0</td>\n",
       "      <td>2019-12-19</td>\n",
       "      <td>No</td>\n",
       "      <td>No</td>\n",
       "      <td>Raining</td>\n",
       "      <td>Wet</td>\n",
       "      <td>Dark_-_Street_Lights_On</td>\n",
       "      <td>No</td>\n",
       "      <td>No</td>\n",
       "      <td>Thursday</td>\n",
       "    </tr>\n",
       "    <tr>\n",
       "      <th>38</th>\n",
       "      <td>-122.345097</td>\n",
       "      <td>47.734128</td>\n",
       "      <td>Intersection</td>\n",
       "      <td>AURORA_AVE_N_AND_N_145TH_ST</td>\n",
       "      <td>Injury</td>\n",
       "      <td>0</td>\n",
       "      <td>2005-12-21</td>\n",
       "      <td>No</td>\n",
       "      <td>No</td>\n",
       "      <td>Overcast</td>\n",
       "      <td>Wet</td>\n",
       "      <td>Dark_-_Street_Lights_On</td>\n",
       "      <td>No</td>\n",
       "      <td>No</td>\n",
       "      <td>Wednesday</td>\n",
       "    </tr>\n",
       "    <tr>\n",
       "      <th>106</th>\n",
       "      <td>-122.385455</td>\n",
       "      <td>47.562875</td>\n",
       "      <td>Intersection</td>\n",
       "      <td>42ND_AVE_SW_AND_SW_OREGON_ST</td>\n",
       "      <td>Injury</td>\n",
       "      <td>0</td>\n",
       "      <td>2019-12-21</td>\n",
       "      <td>Yes</td>\n",
       "      <td>No</td>\n",
       "      <td>Overcast</td>\n",
       "      <td>Wet</td>\n",
       "      <td>Dark_-_Street_Lights_On</td>\n",
       "      <td>No</td>\n",
       "      <td>No</td>\n",
       "      <td>Saturday</td>\n",
       "    </tr>\n",
       "  </tbody>\n",
       "</table>\n",
       "</div>"
      ],
      "text/plain": [
       "              X          Y          Area  \\\n",
       "1   -122.376467  47.543774         Block   \n",
       "29  -122.320762  47.612963  Intersection   \n",
       "33  -122.333718  47.661387  Intersection   \n",
       "38  -122.345097  47.734128  Intersection   \n",
       "106 -122.385455  47.562875  Intersection   \n",
       "\n",
       "                                              Address Severity Code  \\\n",
       "1    35TH_AVE_SW_BETWEEN_SW_MORGAN_ST_AND_SW_HOLLY_ST        Injury   \n",
       "29                            BROADWAY_AND_E_UNION_ST        Injury   \n",
       "33                       MERIDIAN_AVE_N_AND_N_45TH_ST        Injury   \n",
       "38                        AURORA_AVE_N_AND_N_145TH_ST        Injury   \n",
       "106                      42ND_AVE_SW_AND_SW_OREGON_ST        Injury   \n",
       "\n",
       "     Fatalities       Date Inattention Under Influence   Weather  \\\n",
       "1             0 2006-01-15          No              No  Overcast   \n",
       "29            0 2005-11-11          No              No   Raining   \n",
       "33            0 2019-12-19          No              No   Raining   \n",
       "38            0 2005-12-21          No              No  Overcast   \n",
       "106           0 2019-12-21         Yes              No  Overcast   \n",
       "\n",
       "    Road Conditions         Light Conditions Pedestrian Rights Violation  \\\n",
       "1               Dry  Dark_-_Street_Lights_On                          No   \n",
       "29              Wet                 Daylight                         Yes   \n",
       "33              Wet  Dark_-_Street_Lights_On                          No   \n",
       "38              Wet  Dark_-_Street_Lights_On                          No   \n",
       "106             Wet  Dark_-_Street_Lights_On                          No   \n",
       "\n",
       "    Speeding Day of week  \n",
       "1         No      Sunday  \n",
       "29        No      Friday  \n",
       "33        No    Thursday  \n",
       "38        No   Wednesday  \n",
       "106       No    Saturday  "
      ]
     },
     "execution_count": 99,
     "metadata": {},
     "output_type": "execute_result"
    }
   ],
   "source": [
    "acc_df=ped_df_basic.replace(' ', '_', regex=True)\n",
    "acc_df.head()"
   ]
  },
  {
   "cell_type": "code",
   "execution_count": 100,
   "metadata": {},
   "outputs": [
    {
     "data": {
      "text/html": [
       "<div>\n",
       "<style scoped>\n",
       "    .dataframe tbody tr th:only-of-type {\n",
       "        vertical-align: middle;\n",
       "    }\n",
       "\n",
       "    .dataframe tbody tr th {\n",
       "        vertical-align: top;\n",
       "    }\n",
       "\n",
       "    .dataframe thead th {\n",
       "        text-align: right;\n",
       "    }\n",
       "</style>\n",
       "<table border=\"1\" class=\"dataframe\">\n",
       "  <thead>\n",
       "    <tr style=\"text-align: right;\">\n",
       "      <th></th>\n",
       "      <th>X</th>\n",
       "      <th>Y</th>\n",
       "      <th>Address</th>\n",
       "      <th>0</th>\n",
       "    </tr>\n",
       "  </thead>\n",
       "  <tbody>\n",
       "    <tr>\n",
       "      <th>0</th>\n",
       "      <td>-122.277664</td>\n",
       "      <td>47.551176</td>\n",
       "      <td>RAINIER_AVE_S_AND_S_ORCAS_ST</td>\n",
       "      <td>16</td>\n",
       "    </tr>\n",
       "    <tr>\n",
       "      <th>1</th>\n",
       "      <td>-122.302777</td>\n",
       "      <td>47.606176</td>\n",
       "      <td>23RD_AVE_AND_E_JEFFERSON_ST</td>\n",
       "      <td>16</td>\n",
       "    </tr>\n",
       "    <tr>\n",
       "      <th>2</th>\n",
       "      <td>-122.320799</td>\n",
       "      <td>47.615235</td>\n",
       "      <td>BROADWAY_AND_E_PINE_ST</td>\n",
       "      <td>17</td>\n",
       "    </tr>\n",
       "    <tr>\n",
       "      <th>3</th>\n",
       "      <td>-122.316579</td>\n",
       "      <td>47.661292</td>\n",
       "      <td>11TH_AVE_NE_AND_NE_45TH_ST</td>\n",
       "      <td>17</td>\n",
       "    </tr>\n",
       "    <tr>\n",
       "      <th>4</th>\n",
       "      <td>-122.331343</td>\n",
       "      <td>47.607730</td>\n",
       "      <td>6TH_AVE_AND_SPRING_ST</td>\n",
       "      <td>17</td>\n",
       "    </tr>\n",
       "  </tbody>\n",
       "</table>\n",
       "</div>"
      ],
      "text/plain": [
       "            X          Y                       Address   0\n",
       "0 -122.277664  47.551176  RAINIER_AVE_S_AND_S_ORCAS_ST  16\n",
       "1 -122.302777  47.606176   23RD_AVE_AND_E_JEFFERSON_ST  16\n",
       "2 -122.320799  47.615235        BROADWAY_AND_E_PINE_ST  17\n",
       "3 -122.316579  47.661292    11TH_AVE_NE_AND_NE_45TH_ST  17\n",
       "4 -122.331343  47.607730         6TH_AVE_AND_SPRING_ST  17"
      ]
     },
     "execution_count": 100,
     "metadata": {},
     "output_type": "execute_result"
    }
   ],
   "source": [
    "count = acc_df.groupby(['X', 'Y','Address']).size()\n",
    "c1=count.sort_values() \n",
    "c1.head()\n",
    "c2=c1.iloc[3421:]\n",
    "c3=c2.reset_index()\n",
    "c3.head()"
   ]
  },
  {
   "cell_type": "code",
   "execution_count": 101,
   "metadata": {},
   "outputs": [
    {
     "data": {
      "text/plain": [
       "Index(['X', 'Y', 'Address', 0], dtype='object')"
      ]
     },
     "execution_count": 101,
     "metadata": {},
     "output_type": "execute_result"
    }
   ],
   "source": [
    "c3.columns"
   ]
  },
  {
   "cell_type": "code",
   "execution_count": 102,
   "metadata": {},
   "outputs": [],
   "source": [
    "c3.rename(columns={0:'Count'}, inplace=True)"
   ]
  },
  {
   "cell_type": "code",
   "execution_count": 103,
   "metadata": {},
   "outputs": [
    {
     "data": {
      "text/plain": [
       "Index(['X', 'Y', 'Address', 'Count'], dtype='object')"
      ]
     },
     "execution_count": 103,
     "metadata": {},
     "output_type": "execute_result"
    }
   ],
   "source": [
    "c3.columns"
   ]
  },
  {
   "cell_type": "code",
   "execution_count": 104,
   "metadata": {},
   "outputs": [
    {
     "data": {
      "text/html": [
       "<div>\n",
       "<style scoped>\n",
       "    .dataframe tbody tr th:only-of-type {\n",
       "        vertical-align: middle;\n",
       "    }\n",
       "\n",
       "    .dataframe tbody tr th {\n",
       "        vertical-align: top;\n",
       "    }\n",
       "\n",
       "    .dataframe thead th {\n",
       "        text-align: right;\n",
       "    }\n",
       "</style>\n",
       "<table border=\"1\" class=\"dataframe\">\n",
       "  <thead>\n",
       "    <tr style=\"text-align: right;\">\n",
       "      <th></th>\n",
       "      <th>X</th>\n",
       "      <th>Y</th>\n",
       "      <th>Address</th>\n",
       "      <th>Count</th>\n",
       "    </tr>\n",
       "  </thead>\n",
       "  <tbody>\n",
       "    <tr>\n",
       "      <th>18</th>\n",
       "      <td>-122.332451</td>\n",
       "      <td>47.607266</td>\n",
       "      <td>5TH_AVE_AND_SPRING_ST</td>\n",
       "      <td>27</td>\n",
       "    </tr>\n",
       "    <tr>\n",
       "      <th>17</th>\n",
       "      <td>-122.320873</td>\n",
       "      <td>47.619908</td>\n",
       "      <td>BROADWAY_E_AND_E_OLIVE_WAY</td>\n",
       "      <td>26</td>\n",
       "    </tr>\n",
       "    <tr>\n",
       "      <th>16</th>\n",
       "      <td>-122.337793</td>\n",
       "      <td>47.609750</td>\n",
       "      <td>3RD_AVE_AND_PIKE_ST</td>\n",
       "      <td>26</td>\n",
       "    </tr>\n",
       "    <tr>\n",
       "      <th>15</th>\n",
       "      <td>-122.320780</td>\n",
       "      <td>47.614076</td>\n",
       "      <td>BROADWAY_AND_E_PIKE_ST</td>\n",
       "      <td>24</td>\n",
       "    </tr>\n",
       "    <tr>\n",
       "      <th>14</th>\n",
       "      <td>-122.330723</td>\n",
       "      <td>47.618492</td>\n",
       "      <td>DENNY_WAY_AND_STEWART_ST</td>\n",
       "      <td>23</td>\n",
       "    </tr>\n",
       "    <tr>\n",
       "      <th>13</th>\n",
       "      <td>-122.317638</td>\n",
       "      <td>47.661299</td>\n",
       "      <td>ROOSEVELT_WAY_NE_AND_NE_45TH_ST</td>\n",
       "      <td>21</td>\n",
       "    </tr>\n",
       "    <tr>\n",
       "      <th>12</th>\n",
       "      <td>-122.328913</td>\n",
       "      <td>47.613466</td>\n",
       "      <td>BOREN_AVE_AND_PIKE_ST</td>\n",
       "      <td>20</td>\n",
       "    </tr>\n",
       "    <tr>\n",
       "      <th>10</th>\n",
       "      <td>-122.316733</td>\n",
       "      <td>47.612889</td>\n",
       "      <td>12TH_AVE_AND_E_MADISON_ST</td>\n",
       "      <td>19</td>\n",
       "    </tr>\n",
       "    <tr>\n",
       "      <th>11</th>\n",
       "      <td>-122.356709</td>\n",
       "      <td>47.624583</td>\n",
       "      <td>MERCER_ST_AND_QUEEN_ANNE_AVE_N</td>\n",
       "      <td>19</td>\n",
       "    </tr>\n",
       "    <tr>\n",
       "      <th>9</th>\n",
       "      <td>-122.335574</td>\n",
       "      <td>47.610678</td>\n",
       "      <td>5TH_AVE_AND_PIKE_ST</td>\n",
       "      <td>18</td>\n",
       "    </tr>\n",
       "    <tr>\n",
       "      <th>8</th>\n",
       "      <td>-122.314286</td>\n",
       "      <td>47.661277</td>\n",
       "      <td>BROOKLYN_AVE_NE_AND_NE_45TH_ST</td>\n",
       "      <td>18</td>\n",
       "    </tr>\n",
       "    <tr>\n",
       "      <th>7</th>\n",
       "      <td>-122.269986</td>\n",
       "      <td>47.523307</td>\n",
       "      <td>RAINIER_AVE_S_AND_S_HENDERSON_ST</td>\n",
       "      <td>18</td>\n",
       "    </tr>\n",
       "    <tr>\n",
       "      <th>6</th>\n",
       "      <td>-122.327667</td>\n",
       "      <td>47.599195</td>\n",
       "      <td>5TH_AVE_S_AND_S_JACKSON_ST</td>\n",
       "      <td>18</td>\n",
       "    </tr>\n",
       "    <tr>\n",
       "      <th>5</th>\n",
       "      <td>-122.300167</td>\n",
       "      <td>47.580994</td>\n",
       "      <td>RAINIER_AVE_S_AND_S_BAYVIEW_ST</td>\n",
       "      <td>18</td>\n",
       "    </tr>\n",
       "    <tr>\n",
       "      <th>4</th>\n",
       "      <td>-122.331343</td>\n",
       "      <td>47.607730</td>\n",
       "      <td>6TH_AVE_AND_SPRING_ST</td>\n",
       "      <td>17</td>\n",
       "    </tr>\n",
       "    <tr>\n",
       "      <th>3</th>\n",
       "      <td>-122.316579</td>\n",
       "      <td>47.661292</td>\n",
       "      <td>11TH_AVE_NE_AND_NE_45TH_ST</td>\n",
       "      <td>17</td>\n",
       "    </tr>\n",
       "    <tr>\n",
       "      <th>2</th>\n",
       "      <td>-122.320799</td>\n",
       "      <td>47.615235</td>\n",
       "      <td>BROADWAY_AND_E_PINE_ST</td>\n",
       "      <td>17</td>\n",
       "    </tr>\n",
       "    <tr>\n",
       "      <th>1</th>\n",
       "      <td>-122.302777</td>\n",
       "      <td>47.606176</td>\n",
       "      <td>23RD_AVE_AND_E_JEFFERSON_ST</td>\n",
       "      <td>16</td>\n",
       "    </tr>\n",
       "    <tr>\n",
       "      <th>0</th>\n",
       "      <td>-122.277664</td>\n",
       "      <td>47.551176</td>\n",
       "      <td>RAINIER_AVE_S_AND_S_ORCAS_ST</td>\n",
       "      <td>16</td>\n",
       "    </tr>\n",
       "  </tbody>\n",
       "</table>\n",
       "</div>"
      ],
      "text/plain": [
       "             X          Y                           Address  Count\n",
       "18 -122.332451  47.607266             5TH_AVE_AND_SPRING_ST     27\n",
       "17 -122.320873  47.619908        BROADWAY_E_AND_E_OLIVE_WAY     26\n",
       "16 -122.337793  47.609750               3RD_AVE_AND_PIKE_ST     26\n",
       "15 -122.320780  47.614076            BROADWAY_AND_E_PIKE_ST     24\n",
       "14 -122.330723  47.618492          DENNY_WAY_AND_STEWART_ST     23\n",
       "13 -122.317638  47.661299   ROOSEVELT_WAY_NE_AND_NE_45TH_ST     21\n",
       "12 -122.328913  47.613466             BOREN_AVE_AND_PIKE_ST     20\n",
       "10 -122.316733  47.612889         12TH_AVE_AND_E_MADISON_ST     19\n",
       "11 -122.356709  47.624583    MERCER_ST_AND_QUEEN_ANNE_AVE_N     19\n",
       "9  -122.335574  47.610678               5TH_AVE_AND_PIKE_ST     18\n",
       "8  -122.314286  47.661277    BROOKLYN_AVE_NE_AND_NE_45TH_ST     18\n",
       "7  -122.269986  47.523307  RAINIER_AVE_S_AND_S_HENDERSON_ST     18\n",
       "6  -122.327667  47.599195        5TH_AVE_S_AND_S_JACKSON_ST     18\n",
       "5  -122.300167  47.580994    RAINIER_AVE_S_AND_S_BAYVIEW_ST     18\n",
       "4  -122.331343  47.607730             6TH_AVE_AND_SPRING_ST     17\n",
       "3  -122.316579  47.661292        11TH_AVE_NE_AND_NE_45TH_ST     17\n",
       "2  -122.320799  47.615235            BROADWAY_AND_E_PINE_ST     17\n",
       "1  -122.302777  47.606176       23RD_AVE_AND_E_JEFFERSON_ST     16\n",
       "0  -122.277664  47.551176      RAINIER_AVE_S_AND_S_ORCAS_ST     16"
      ]
     },
     "execution_count": 104,
     "metadata": {},
     "output_type": "execute_result"
    }
   ],
   "source": [
    "c3.sort_values(by='Count', ascending=False)"
   ]
  },
  {
   "cell_type": "code",
   "execution_count": 105,
   "metadata": {},
   "outputs": [
    {
     "data": {
      "text/html": [
       "<div>\n",
       "<style scoped>\n",
       "    .dataframe tbody tr th:only-of-type {\n",
       "        vertical-align: middle;\n",
       "    }\n",
       "\n",
       "    .dataframe tbody tr th {\n",
       "        vertical-align: top;\n",
       "    }\n",
       "\n",
       "    .dataframe thead th {\n",
       "        text-align: right;\n",
       "    }\n",
       "</style>\n",
       "<table border=\"1\" class=\"dataframe\">\n",
       "  <thead>\n",
       "    <tr style=\"text-align: right;\">\n",
       "      <th></th>\n",
       "      <th>X</th>\n",
       "      <th>Y</th>\n",
       "      <th>Address</th>\n",
       "      <th>Count</th>\n",
       "    </tr>\n",
       "  </thead>\n",
       "  <tbody>\n",
       "    <tr>\n",
       "      <th>0</th>\n",
       "      <td>-122.277664</td>\n",
       "      <td>47.551176</td>\n",
       "      <td>RAINIER_AVE_S_AND_S_ORCAS_ST</td>\n",
       "      <td>No of accidents: 16</td>\n",
       "    </tr>\n",
       "    <tr>\n",
       "      <th>1</th>\n",
       "      <td>-122.302777</td>\n",
       "      <td>47.606176</td>\n",
       "      <td>23RD_AVE_AND_E_JEFFERSON_ST</td>\n",
       "      <td>No of accidents: 16</td>\n",
       "    </tr>\n",
       "    <tr>\n",
       "      <th>2</th>\n",
       "      <td>-122.320799</td>\n",
       "      <td>47.615235</td>\n",
       "      <td>BROADWAY_AND_E_PINE_ST</td>\n",
       "      <td>No of accidents: 17</td>\n",
       "    </tr>\n",
       "    <tr>\n",
       "      <th>3</th>\n",
       "      <td>-122.316579</td>\n",
       "      <td>47.661292</td>\n",
       "      <td>11TH_AVE_NE_AND_NE_45TH_ST</td>\n",
       "      <td>No of accidents: 17</td>\n",
       "    </tr>\n",
       "    <tr>\n",
       "      <th>4</th>\n",
       "      <td>-122.331343</td>\n",
       "      <td>47.607730</td>\n",
       "      <td>6TH_AVE_AND_SPRING_ST</td>\n",
       "      <td>No of accidents: 17</td>\n",
       "    </tr>\n",
       "  </tbody>\n",
       "</table>\n",
       "</div>"
      ],
      "text/plain": [
       "            X          Y                       Address                Count\n",
       "0 -122.277664  47.551176  RAINIER_AVE_S_AND_S_ORCAS_ST  No of accidents: 16\n",
       "1 -122.302777  47.606176   23RD_AVE_AND_E_JEFFERSON_ST  No of accidents: 16\n",
       "2 -122.320799  47.615235        BROADWAY_AND_E_PINE_ST  No of accidents: 17\n",
       "3 -122.316579  47.661292    11TH_AVE_NE_AND_NE_45TH_ST  No of accidents: 17\n",
       "4 -122.331343  47.607730         6TH_AVE_AND_SPRING_ST  No of accidents: 17"
      ]
     },
     "execution_count": 105,
     "metadata": {},
     "output_type": "execute_result"
    }
   ],
   "source": [
    "c4 = c3.astype({\"Count\": str})\n",
    "c4.dtypes\n",
    "c4['Count'] = 'No of accidents: ' + c4['Count'].astype(str)\n",
    "c4.head()"
   ]
  },
  {
   "cell_type": "code",
   "execution_count": 106,
   "metadata": {},
   "outputs": [
    {
     "name": "stdout",
     "output_type": "stream",
     "text": [
      "Collecting package metadata (current_repodata.json): ...working... done\n",
      "Solving environment: ...working... done\n",
      "\n",
      "# All requested packages already installed.\n",
      "\n",
      "Folium installed and imported!\n"
     ]
    }
   ],
   "source": [
    "!conda install -c conda-forge folium=0.5.0 --yes\n",
    "import folium\n",
    "print('Folium installed and imported!')"
   ]
  },
  {
   "cell_type": "code",
   "execution_count": 107,
   "metadata": {},
   "outputs": [],
   "source": [
    "latitude = 47.61\n",
    "longitude = -122.33"
   ]
  },
  {
   "cell_type": "code",
   "execution_count": 108,
   "metadata": {},
   "outputs": [],
   "source": [
    "seattle_map = folium.Map(location=[latitude, longitude], zoom_start=12)"
   ]
  },
  {
   "cell_type": "code",
   "execution_count": 109,
   "metadata": {},
   "outputs": [
    {
     "data": {
      "text/html": [
       "<div style=\"width:100%;\"><div style=\"position:relative;width:100%;height:0;padding-bottom:60%;\"><span style=\"color:#565656\">Make this Notebook Trusted to load map: File -> Trust Notebook</span><iframe src=\"about:blank\" style=\"position:absolute;width:100%;height:100%;left:0;top:0;border:none !important;\" data-html=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 onload=\"this.contentDocument.open();this.contentDocument.write(atob(this.getAttribute('data-html')));this.contentDocument.close();\" allowfullscreen webkitallowfullscreen mozallowfullscreen></iframe></div></div>"
      ],
      "text/plain": [
       "<folium.folium.Map at 0x1f0bacaa630>"
      ]
     },
     "execution_count": 109,
     "metadata": {},
     "output_type": "execute_result"
    }
   ],
   "source": [
    "accidents = folium.map.FeatureGroup()\n",
    "# loop through the 100 crimes and add each to the incidents feature group\n",
    "for lat, lng, in zip(c3.Y, c3.X):\n",
    "    accidents.add_child(\n",
    "        folium.features.CircleMarker(\n",
    "            [lat, lng],\n",
    "            radius=5, # define how big you want the circle markers to be\n",
    "            color='red',\n",
    "            fill=True,\n",
    "            fill_color='black',\n",
    "            fill_opacity=0.6\n",
    "        )\n",
    "    )\n",
    "# add pop-up text to each marker on the map    \n",
    "latitudes = list(c3.Y)\n",
    "longitudes = list(c3.X)\n",
    "labels = list(c4.Count)\n",
    "for lat, lng, label in zip(latitudes, longitudes, labels):\n",
    "    folium.Marker([lat, lng], popup=label).add_to(seattle_map)\n",
    "\n",
    "# add incidents to map\n",
    "seattle_map.add_child(accidents)"
   ]
  },
  {
   "cell_type": "markdown",
   "metadata": {},
   "source": [
    "<h1> Basic analysis for fatal accidents </h1>\n",
    "Fatal accidents are denoted as '3' in \"Severity code' column"
   ]
  },
  {
   "cell_type": "code",
   "execution_count": 110,
   "metadata": {},
   "outputs": [
    {
     "data": {
      "text/html": [
       "<div>\n",
       "<style scoped>\n",
       "    .dataframe tbody tr th:only-of-type {\n",
       "        vertical-align: middle;\n",
       "    }\n",
       "\n",
       "    .dataframe tbody tr th {\n",
       "        vertical-align: top;\n",
       "    }\n",
       "\n",
       "    .dataframe thead th {\n",
       "        text-align: right;\n",
       "    }\n",
       "</style>\n",
       "<table border=\"1\" class=\"dataframe\">\n",
       "  <thead>\n",
       "    <tr style=\"text-align: right;\">\n",
       "      <th></th>\n",
       "      <th>X</th>\n",
       "      <th>Y</th>\n",
       "      <th>Area</th>\n",
       "      <th>Address</th>\n",
       "      <th>Severity Code</th>\n",
       "      <th>Fatalities</th>\n",
       "      <th>Date</th>\n",
       "      <th>Inattention</th>\n",
       "      <th>Under Influence</th>\n",
       "      <th>Weather</th>\n",
       "      <th>Road Conditions</th>\n",
       "      <th>Light Conditions</th>\n",
       "      <th>Pedestrian Rights Violation</th>\n",
       "      <th>Speeding</th>\n",
       "      <th>Day of week</th>\n",
       "    </tr>\n",
       "  </thead>\n",
       "  <tbody>\n",
       "    <tr>\n",
       "      <th>3122</th>\n",
       "      <td>-122.342913</td>\n",
       "      <td>47.690550</td>\n",
       "      <td>Block</td>\n",
       "      <td>N 85TH ST BETWEEN NESBIT AVE N AND MIDVALE AVE N</td>\n",
       "      <td>Fatal</td>\n",
       "      <td>1</td>\n",
       "      <td>2004-02-28</td>\n",
       "      <td>No</td>\n",
       "      <td>Yes</td>\n",
       "      <td>Clear</td>\n",
       "      <td>Dry</td>\n",
       "      <td>Dark - Street Lights On</td>\n",
       "      <td>Yes</td>\n",
       "      <td>No</td>\n",
       "      <td>Saturday</td>\n",
       "    </tr>\n",
       "    <tr>\n",
       "      <th>4440</th>\n",
       "      <td>-122.276741</td>\n",
       "      <td>47.547432</td>\n",
       "      <td>Block</td>\n",
       "      <td>RAINIER AVE S BETWEEN S KENNY ST AND S GRAHAM ST</td>\n",
       "      <td>Fatal</td>\n",
       "      <td>1</td>\n",
       "      <td>2004-10-05</td>\n",
       "      <td>No</td>\n",
       "      <td>No</td>\n",
       "      <td>Overcast</td>\n",
       "      <td>Dry</td>\n",
       "      <td>Daylight</td>\n",
       "      <td>Yes</td>\n",
       "      <td>No</td>\n",
       "      <td>Tuesday</td>\n",
       "    </tr>\n",
       "    <tr>\n",
       "      <th>5605</th>\n",
       "      <td>-122.373603</td>\n",
       "      <td>47.660753</td>\n",
       "      <td>Intersection</td>\n",
       "      <td>14TH AVE NW AND SHILSHOLE AVE NW</td>\n",
       "      <td>Fatal</td>\n",
       "      <td>1</td>\n",
       "      <td>2004-05-09</td>\n",
       "      <td>No</td>\n",
       "      <td>No</td>\n",
       "      <td>Clear</td>\n",
       "      <td>Dry</td>\n",
       "      <td>Daylight</td>\n",
       "      <td>No</td>\n",
       "      <td>No</td>\n",
       "      <td>Sunday</td>\n",
       "    </tr>\n",
       "    <tr>\n",
       "      <th>7892</th>\n",
       "      <td>-122.327915</td>\n",
       "      <td>47.614576</td>\n",
       "      <td>Block</td>\n",
       "      <td>MELROSE AVE BETWEEN PIKE ST AND PINE ST</td>\n",
       "      <td>Fatal</td>\n",
       "      <td>1</td>\n",
       "      <td>2004-09-19</td>\n",
       "      <td>No</td>\n",
       "      <td>No</td>\n",
       "      <td>Overcast</td>\n",
       "      <td>Dry</td>\n",
       "      <td>Dark - Street Lights On</td>\n",
       "      <td>No</td>\n",
       "      <td>No</td>\n",
       "      <td>Sunday</td>\n",
       "    </tr>\n",
       "    <tr>\n",
       "      <th>8016</th>\n",
       "      <td>-122.311916</td>\n",
       "      <td>47.666428</td>\n",
       "      <td>Intersection</td>\n",
       "      <td>15TH AVE NE AND NE 52ND ST</td>\n",
       "      <td>Fatal</td>\n",
       "      <td>1</td>\n",
       "      <td>2004-10-01</td>\n",
       "      <td>No</td>\n",
       "      <td>No</td>\n",
       "      <td>Clear</td>\n",
       "      <td>Dry</td>\n",
       "      <td>Daylight</td>\n",
       "      <td>Yes</td>\n",
       "      <td>No</td>\n",
       "      <td>Friday</td>\n",
       "    </tr>\n",
       "  </tbody>\n",
       "</table>\n",
       "</div>"
      ],
      "text/plain": [
       "               X          Y          Area  \\\n",
       "3122 -122.342913  47.690550         Block   \n",
       "4440 -122.276741  47.547432         Block   \n",
       "5605 -122.373603  47.660753  Intersection   \n",
       "7892 -122.327915  47.614576         Block   \n",
       "8016 -122.311916  47.666428  Intersection   \n",
       "\n",
       "                                               Address Severity Code  \\\n",
       "3122  N 85TH ST BETWEEN NESBIT AVE N AND MIDVALE AVE N         Fatal   \n",
       "4440  RAINIER AVE S BETWEEN S KENNY ST AND S GRAHAM ST         Fatal   \n",
       "5605                  14TH AVE NW AND SHILSHOLE AVE NW         Fatal   \n",
       "7892           MELROSE AVE BETWEEN PIKE ST AND PINE ST         Fatal   \n",
       "8016                        15TH AVE NE AND NE 52ND ST         Fatal   \n",
       "\n",
       "      Fatalities       Date Inattention Under Influence   Weather  \\\n",
       "3122           1 2004-02-28          No             Yes     Clear   \n",
       "4440           1 2004-10-05          No              No  Overcast   \n",
       "5605           1 2004-05-09          No              No     Clear   \n",
       "7892           1 2004-09-19          No              No  Overcast   \n",
       "8016           1 2004-10-01          No              No     Clear   \n",
       "\n",
       "     Road Conditions         Light Conditions Pedestrian Rights Violation  \\\n",
       "3122             Dry  Dark - Street Lights On                         Yes   \n",
       "4440             Dry                 Daylight                         Yes   \n",
       "5605             Dry                 Daylight                          No   \n",
       "7892             Dry  Dark - Street Lights On                          No   \n",
       "8016             Dry                 Daylight                         Yes   \n",
       "\n",
       "     Speeding Day of week  \n",
       "3122       No    Saturday  \n",
       "4440       No     Tuesday  \n",
       "5605       No      Sunday  \n",
       "7892       No      Sunday  \n",
       "8016       No      Friday  "
      ]
     },
     "execution_count": 110,
     "metadata": {},
     "output_type": "execute_result"
    }
   ],
   "source": [
    "ped_df_fatal=ped_df_basic.loc[ped_df_basic['Severity Code'] == 'Fatal']\n",
    "ped_df_fatal.head()"
   ]
  },
  {
   "cell_type": "markdown",
   "metadata": {},
   "source": [
    "<h1> Histogram plots for analysis of fatal accidents</h1>"
   ]
  },
  {
   "cell_type": "code",
   "execution_count": 111,
   "metadata": {},
   "outputs": [
    {
     "data": {
      "text/plain": [
       "Text(0.5, 0, 'Number of accidents')"
      ]
     },
     "execution_count": 111,
     "metadata": {},
     "output_type": "execute_result"
    },
    {
     "data": {
      "image/png": "[encoded data removed]",
      "text/plain": [
       "<Figure size 720x432 with 1 Axes>"
      ]
     },
     "metadata": {
      "needs_background": "light"
     },
     "output_type": "display_data"
    }
   ],
   "source": [
    "ped_df_fatal['Address'].value_counts().plot(kind='hist',\n",
    "                                            figsize=(10, 6),\n",
    "                                            bins=15,\n",
    "                                            color=['coral'])\n",
    "plt.title('Histogram of frequency of accidents with pedestrians in a given place')\n",
    "plt.xlabel('Number of accidents')"
   ]
  },
  {
   "cell_type": "code",
   "execution_count": 112,
   "metadata": {},
   "outputs": [
    {
     "data": {
      "text/plain": [
       "Text(0.5, 0, 'Number of accidents')"
      ]
     },
     "execution_count": 112,
     "metadata": {},
     "output_type": "execute_result"
    },
    {
     "data": {
      "image/png": "[encoded data removed]",
      "text/plain": [
       "<Figure size 720x432 with 1 Axes>"
      ]
     },
     "metadata": {
      "needs_background": "light"
     },
     "output_type": "display_data"
    }
   ],
   "source": [
    "ped_df_fatal['Date'].value_counts().plot(kind='hist',\n",
    "                                            figsize=(10, 6),\n",
    "                                            bins=15,\n",
    "                                            color=['coral'])\n",
    "plt.title('Histogram of frequency of accidents with pedestrians on a given day')\n",
    "plt.xlabel('Number of accidents')"
   ]
  },
  {
   "cell_type": "markdown",
   "metadata": {},
   "source": [
    "<h1> Bar plots for analysis of fatal accidents</h1> "
   ]
  },
  {
   "cell_type": "code",
   "execution_count": 167,
   "metadata": {},
   "outputs": [
    {
     "data": {
      "text/plain": [
       "Text(0, 0.5, 'Number of accidents')"
      ]
     },
     "execution_count": 167,
     "metadata": {},
     "output_type": "execute_result"
    },
    {
     "data": {
      "image/png": "[encoded data removed]",
      "text/plain": [
       "<Figure size 432x288 with 1 Axes>"
      ]
     },
     "metadata": {
      "needs_background": "light"
     },
     "output_type": "display_data"
    }
   ],
   "source": [
    "ped_df_fatal['Area'].value_counts().plot(kind='bar',\n",
    "                                         color=['mediumseagreen'])\n",
    "for i in range(len(ped_df_fatal['Area'].value_counts())):\n",
    "    plt.annotate(ped_df_fatal['Area'].value_counts()[i], (-0.05+i, ped_df_fatal['Area'].value_counts()[i]))\n",
    "plt.title('Types of areas where fatal accidents were most frequent')\n",
    "plt.xlabel('Types of areas')\n",
    "plt.ylabel('Number of accidents')"
   ]
  },
  {
   "cell_type": "code",
   "execution_count": 168,
   "metadata": {},
   "outputs": [
    {
     "data": {
      "text/plain": [
       "Text(0, 0.5, 'Number of accidents')"
      ]
     },
     "execution_count": 168,
     "metadata": {},
     "output_type": "execute_result"
    },
    {
     "data": {
      "image/png": "[encoded data removed]",
      "text/plain": [
       "<Figure size 432x288 with 1 Axes>"
      ]
     },
     "metadata": {
      "needs_background": "light"
     },
     "output_type": "display_data"
    }
   ],
   "source": [
    "ped_df_fatal['Inattention'].value_counts().plot(kind='bar',\n",
    "                                         color=['mediumseagreen'])\n",
    "for i in range(len(ped_df_fatal['Inattention'].value_counts())):\n",
    "    plt.annotate(ped_df_fatal['Inattention'].value_counts()[i], (-0.05+i, ped_df_fatal['Inattention'].value_counts()[i]))\n",
    "plt.title('Inattention of driver')\n",
    "plt.ylabel('Number of accidents')"
   ]
  },
  {
   "cell_type": "code",
   "execution_count": 115,
   "metadata": {},
   "outputs": [
    {
     "data": {
      "text/plain": [
       "No     119\n",
       "Yes     10\n",
       "Name: Inattention, dtype: int64"
      ]
     },
     "execution_count": 115,
     "metadata": {},
     "output_type": "execute_result"
    }
   ],
   "source": [
    "ped_df_fatal['Inattention'].value_counts()"
   ]
  },
  {
   "cell_type": "code",
   "execution_count": 116,
   "metadata": {},
   "outputs": [
    {
     "data": {
      "text/plain": [
       "<matplotlib.axes._subplots.AxesSubplot at 0x1f0bc646da0>"
      ]
     },
     "execution_count": 116,
     "metadata": {},
     "output_type": "execute_result"
    },
    {
     "data": {
      "image/png": "[encoded data removed]",
      "text/plain": [
       "<Figure size 432x288 with 1 Axes>"
      ]
     },
     "metadata": {},
     "output_type": "display_data"
    }
   ],
   "source": [
    "ped_df_fatal['Inattention'].value_counts().plot(kind='pie')"
   ]
  },
  {
   "cell_type": "code",
   "execution_count": 117,
   "metadata": {},
   "outputs": [
    {
     "name": "stdout",
     "output_type": "stream",
     "text": [
      "Percent of accidents not caused by driver's inattention:92.25\n",
      "Percent of accidents caused by driver's inattention:7.75\n"
     ]
    }
   ],
   "source": [
    "print(\"Percent of accidents not caused by driver's inattention:\" '%.2f' % (119/(10+119)*100))\n",
    "print(\"Percent of accidents caused by driver's inattention:\" '%.2f' % (10/(10+119)*100))"
   ]
  },
  {
   "cell_type": "code",
   "execution_count": 169,
   "metadata": {},
   "outputs": [
    {
     "data": {
      "text/plain": [
       "Text(0, 0.5, 'Number of accidents')"
      ]
     },
     "execution_count": 169,
     "metadata": {},
     "output_type": "execute_result"
    },
    {
     "data": {
      "image/png": "[encoded data removed]",
      "text/plain": [
       "<Figure size 432x288 with 1 Axes>"
      ]
     },
     "metadata": {
      "needs_background": "light"
     },
     "output_type": "display_data"
    }
   ],
   "source": [
    "ped_df_fatal['Under Influence'].value_counts().plot(kind='bar',\n",
    "                                         color=['mediumseagreen'])\n",
    "for i in range(len(ped_df_fatal['Under Influence'].value_counts())):\n",
    "    plt.annotate(ped_df_fatal['Under Influence'].value_counts()[i], (-0.05+i, ped_df_fatal['Under Influence'].value_counts()[i]))\n",
    "plt.title('Under Influence')\n",
    "plt.ylabel('Number of accidents')"
   ]
  },
  {
   "cell_type": "code",
   "execution_count": 119,
   "metadata": {},
   "outputs": [
    {
     "data": {
      "text/plain": [
       "No     101\n",
       "Yes     28\n",
       "Name: Under Influence, dtype: int64"
      ]
     },
     "execution_count": 119,
     "metadata": {},
     "output_type": "execute_result"
    }
   ],
   "source": [
    "ped_df_fatal['Under Influence'].value_counts()"
   ]
  },
  {
   "cell_type": "code",
   "execution_count": 120,
   "metadata": {},
   "outputs": [
    {
     "name": "stdout",
     "output_type": "stream",
     "text": [
      "Percent of accidents - driver not under influence:78.29\n",
      "Percent of accidents - driver under influence:21.71\n"
     ]
    }
   ],
   "source": [
    "print(\"Percent of accidents - driver not under influence:\" '%.2f' % (101/(101+28)*100))\n",
    "print(\"Percent of accidents - driver under influence:\" '%.2f' % (28/(101+28)*100))"
   ]
  },
  {
   "cell_type": "code",
   "execution_count": 121,
   "metadata": {},
   "outputs": [
    {
     "data": {
      "text/plain": [
       "<matplotlib.axes._subplots.AxesSubplot at 0x1f0bc75df28>"
      ]
     },
     "execution_count": 121,
     "metadata": {},
     "output_type": "execute_result"
    },
    {
     "data": {
      "image/png": "[encoded data removed]",
      "text/plain": [
       "<Figure size 432x288 with 1 Axes>"
      ]
     },
     "metadata": {},
     "output_type": "display_data"
    }
   ],
   "source": [
    "ped_df_fatal['Under Influence'].value_counts().plot(kind='pie')"
   ]
  },
  {
   "cell_type": "code",
   "execution_count": 170,
   "metadata": {},
   "outputs": [
    {
     "data": {
      "text/plain": [
       "Text(0, 0.5, 'Number of accidents')"
      ]
     },
     "execution_count": 170,
     "metadata": {},
     "output_type": "execute_result"
    },
    {
     "data": {
      "image/png": "[encoded data removed]",
      "text/plain": [
       "<Figure size 432x288 with 1 Axes>"
      ]
     },
     "metadata": {
      "needs_background": "light"
     },
     "output_type": "display_data"
    }
   ],
   "source": [
    "ped_df_fatal['Weather'].value_counts().plot(kind='bar',\n",
    "                                         color=['mediumseagreen'])\n",
    "for i in range(len(ped_df_fatal['Weather'].value_counts())):\n",
    "    plt.annotate(ped_df_fatal['Weather'].value_counts()[i], (-0.05+i, ped_df_fatal['Weather'].value_counts()[i]))\n",
    "plt.title('Weather conditions')\n",
    "plt.ylabel('Number of accidents')"
   ]
  },
  {
   "cell_type": "code",
   "execution_count": 123,
   "metadata": {},
   "outputs": [
    {
     "data": {
      "text/plain": [
       "Clear               85\n",
       "Raining             26\n",
       "Overcast            16\n",
       "Unknown              1\n",
       "Severe Crosswind     1\n",
       "Name: Weather, dtype: int64"
      ]
     },
     "execution_count": 123,
     "metadata": {},
     "output_type": "execute_result"
    }
   ],
   "source": [
    "ped_df_fatal['Weather'].value_counts()"
   ]
  },
  {
   "cell_type": "code",
   "execution_count": 171,
   "metadata": {},
   "outputs": [
    {
     "data": {
      "text/plain": [
       "Text(0, 0.5, 'Number of accidents')"
      ]
     },
     "execution_count": 171,
     "metadata": {},
     "output_type": "execute_result"
    },
    {
     "data": {
      "image/png": "[encoded data removed]",
      "text/plain": [
       "<Figure size 432x288 with 1 Axes>"
      ]
     },
     "metadata": {
      "needs_background": "light"
     },
     "output_type": "display_data"
    }
   ],
   "source": [
    "ped_df_fatal['Road Conditions'].value_counts().plot(kind='bar',\n",
    "                                         color=['mediumseagreen'])\n",
    "for i in range(len(ped_df_fatal['Road Conditions'].value_counts())):\n",
    "    plt.annotate(ped_df_fatal['Road Conditions'].value_counts()[i], (-0.05+i, ped_df_fatal['Road Conditions'].value_counts()[i]))\n",
    "plt.title('Road Conditions')\n",
    "plt.ylabel('Number of accidents')"
   ]
  },
  {
   "cell_type": "code",
   "execution_count": 125,
   "metadata": {},
   "outputs": [
    {
     "data": {
      "text/plain": [
       "Dry    101\n",
       "Wet     28\n",
       "Name: Road Conditions, dtype: int64"
      ]
     },
     "execution_count": 125,
     "metadata": {},
     "output_type": "execute_result"
    }
   ],
   "source": [
    "ped_df_fatal['Road Conditions'].value_counts()"
   ]
  },
  {
   "cell_type": "code",
   "execution_count": 126,
   "metadata": {},
   "outputs": [
    {
     "name": "stdout",
     "output_type": "stream",
     "text": [
      "Percent of accidents on dry road:78.29\n",
      "Percent of accidents on wet road:21.71\n"
     ]
    }
   ],
   "source": [
    "print(\"Percent of accidents on dry road:\" '%.2f' % (101/(101+28)*100))\n",
    "print(\"Percent of accidents on wet road:\" '%.2f' % (28/(101+28)*100))"
   ]
  },
  {
   "cell_type": "code",
   "execution_count": 174,
   "metadata": {},
   "outputs": [
    {
     "data": {
      "text/plain": [
       "Text(0, 0.5, 'Number of accidents')"
      ]
     },
     "execution_count": 174,
     "metadata": {},
     "output_type": "execute_result"
    },
    {
     "data": {
      "image/png": "[encoded data removed]",
      "text/plain": [
       "<Figure size 432x288 with 1 Axes>"
      ]
     },
     "metadata": {
      "needs_background": "light"
     },
     "output_type": "display_data"
    }
   ],
   "source": [
    "ped_df_fatal['Light Conditions'].value_counts().plot(kind='bar',\n",
    "                                         color=['mediumseagreen'])\n",
    "for i in range(len(ped_df_fatal['Light Conditions'].value_counts())):\n",
    "    plt.annotate(ped_df_fatal['Light Conditions'].value_counts()[i], (-0.1+i, ped_df_fatal['Light Conditions'].value_counts()[i]))\n",
    "plt.title('Light Conditions')\n",
    "plt.ylabel('Number of accidents')"
   ]
  },
  {
   "cell_type": "code",
   "execution_count": 128,
   "metadata": {},
   "outputs": [
    {
     "data": {
      "text/plain": [
       "Daylight                    65\n",
       "Dark - Street Lights On     53\n",
       "Dusk                         6\n",
       "Dawn                         3\n",
       "Dark - No Street Lights      1\n",
       "Dark - Street Lights Off     1\n",
       "Name: Light Conditions, dtype: int64"
      ]
     },
     "execution_count": 128,
     "metadata": {},
     "output_type": "execute_result"
    }
   ],
   "source": [
    "ped_df_fatal['Light Conditions'].value_counts()"
   ]
  },
  {
   "cell_type": "code",
   "execution_count": 172,
   "metadata": {},
   "outputs": [
    {
     "data": {
      "text/plain": [
       "Text(0, 0.5, 'Number of accidents')"
      ]
     },
     "execution_count": 172,
     "metadata": {},
     "output_type": "execute_result"
    },
    {
     "data": {
      "image/png": "[encoded data removed]",
      "text/plain": [
       "<Figure size 432x288 with 1 Axes>"
      ]
     },
     "metadata": {
      "needs_background": "light"
     },
     "output_type": "display_data"
    }
   ],
   "source": [
    "ped_df_fatal['Pedestrian Rights Violation'].value_counts().plot(kind='bar',\n",
    "                                         color=['mediumseagreen'])\n",
    "for i in range(len(ped_df_fatal['Pedestrian Rights Violation'].value_counts())):\n",
    "    plt.annotate(ped_df_fatal['Pedestrian Rights Violation'].value_counts()[i], (-0.05+i, ped_df_fatal['Pedestrian Rights Violation'].value_counts()[i]))\n",
    "plt.title('Pedestrian Rights Violation')\n",
    "plt.ylabel('Number of accidents')"
   ]
  },
  {
   "cell_type": "code",
   "execution_count": 130,
   "metadata": {},
   "outputs": [
    {
     "data": {
      "text/plain": [
       "No     83\n",
       "Yes    46\n",
       "Name: Pedestrian Rights Violation, dtype: int64"
      ]
     },
     "execution_count": 130,
     "metadata": {},
     "output_type": "execute_result"
    }
   ],
   "source": [
    "ped_df_fatal['Pedestrian Rights Violation'].value_counts()"
   ]
  },
  {
   "cell_type": "code",
   "execution_count": 131,
   "metadata": {},
   "outputs": [
    {
     "name": "stdout",
     "output_type": "stream",
     "text": [
      "Percent of accidents when the pedestrian rights violation was not the factor:64.34\n",
      "Percent of accidents when the pedestrian rights violation was the factor:35.66\n"
     ]
    }
   ],
   "source": [
    "print(\"Percent of accidents when the pedestrian rights violation was not the factor:\" '%.2f' % (83/(83+46)*100))\n",
    "print(\"Percent of accidents when the pedestrian rights violation was the factor:\" '%.2f' % (46/(83+46)*100))"
   ]
  },
  {
   "cell_type": "code",
   "execution_count": 132,
   "metadata": {},
   "outputs": [
    {
     "data": {
      "text/plain": [
       "<matplotlib.axes._subplots.AxesSubplot at 0x1f0bc911518>"
      ]
     },
     "execution_count": 132,
     "metadata": {},
     "output_type": "execute_result"
    },
    {
     "data": {
      "image/png": "[encoded data removed]",
      "text/plain": [
       "<Figure size 432x288 with 1 Axes>"
      ]
     },
     "metadata": {},
     "output_type": "display_data"
    }
   ],
   "source": [
    "ped_df_fatal['Pedestrian Rights Violation'].value_counts().plot(kind='pie')"
   ]
  },
  {
   "cell_type": "code",
   "execution_count": 175,
   "metadata": {},
   "outputs": [
    {
     "data": {
      "text/plain": [
       "Text(0, 0.5, 'Number of accidents')"
      ]
     },
     "execution_count": 175,
     "metadata": {},
     "output_type": "execute_result"
    },
    {
     "data": {
      "image/png": "[encoded data removed]",
      "text/plain": [
       "<Figure size 432x288 with 1 Axes>"
      ]
     },
     "metadata": {
      "needs_background": "light"
     },
     "output_type": "display_data"
    }
   ],
   "source": [
    "ped_df_fatal['Speeding'].value_counts().plot(kind='bar',\n",
    "                                         color=['mediumseagreen'])\n",
    "for i in range(len(ped_df_fatal['Speeding'].value_counts())):\n",
    "    plt.annotate(ped_df_fatal['Speeding'].value_counts()[i], (-0.05+i, ped_df_fatal['Speeding'].value_counts()[i]))\n",
    "plt.title('Pedestrian Rights Violation')\n",
    "plt.title('Speeding')\n",
    "plt.ylabel('Number of accidents')"
   ]
  },
  {
   "cell_type": "code",
   "execution_count": 134,
   "metadata": {},
   "outputs": [
    {
     "data": {
      "text/plain": [
       "No     124\n",
       "Yes      5\n",
       "Name: Speeding, dtype: int64"
      ]
     },
     "execution_count": 134,
     "metadata": {},
     "output_type": "execute_result"
    }
   ],
   "source": [
    "ped_df_fatal['Speeding'].value_counts()"
   ]
  },
  {
   "cell_type": "code",
   "execution_count": 135,
   "metadata": {},
   "outputs": [
    {
     "name": "stdout",
     "output_type": "stream",
     "text": [
      "Percent of accidents when speeding was not the factor:96.12\n",
      "Percent of accidents when speeding was the factor:3.88\n"
     ]
    }
   ],
   "source": [
    "print(\"Percent of accidents when speeding was not the factor:\" '%.2f' % (124/(129)*100))\n",
    "print(\"Percent of accidents when speeding was the factor:\" '%.2f' % (5/(129)*100))"
   ]
  },
  {
   "cell_type": "code",
   "execution_count": 136,
   "metadata": {},
   "outputs": [
    {
     "data": {
      "text/plain": [
       "<matplotlib.axes._subplots.AxesSubplot at 0x1f0bc9d1b38>"
      ]
     },
     "execution_count": 136,
     "metadata": {},
     "output_type": "execute_result"
    },
    {
     "data": {
      "image/png": "[encoded data removed]",
      "text/plain": [
       "<Figure size 432x288 with 1 Axes>"
      ]
     },
     "metadata": {},
     "output_type": "display_data"
    }
   ],
   "source": [
    "ped_df_fatal['Speeding'].value_counts().plot(kind='pie')"
   ]
  },
  {
   "cell_type": "code",
   "execution_count": 177,
   "metadata": {},
   "outputs": [
    {
     "data": {
      "text/plain": [
       "Text(0, 0.5, 'Number of accidents')"
      ]
     },
     "execution_count": 177,
     "metadata": {},
     "output_type": "execute_result"
    },
    {
     "data": {
      "image/png": "[encoded data removed]",
      "text/plain": [
       "<Figure size 432x288 with 1 Axes>"
      ]
     },
     "metadata": {
      "needs_background": "light"
     },
     "output_type": "display_data"
    }
   ],
   "source": [
    "ped_df_fatal['Day of week'].value_counts().plot(kind='bar',\n",
    "                                         color=['mediumseagreen'])\n",
    "for i in range(len(ped_df_fatal['Day of week'].value_counts())):\n",
    "    plt.annotate(ped_df_fatal['Day of week'].value_counts()[i], (-0.1+i, ped_df_fatal['Day of week'].value_counts()[i]))\n",
    "plt.title('Day of week')\n",
    "plt.ylabel('Number of accidents')"
   ]
  },
  {
   "cell_type": "code",
   "execution_count": 138,
   "metadata": {},
   "outputs": [
    {
     "data": {
      "text/plain": [
       "Wednesday    26\n",
       "Thursday     22\n",
       "Monday       21\n",
       "Friday       20\n",
       "Tuesday      15\n",
       "Saturday     13\n",
       "Sunday       12\n",
       "Name: Day of week, dtype: int64"
      ]
     },
     "execution_count": 138,
     "metadata": {},
     "output_type": "execute_result"
    }
   ],
   "source": [
    "ped_df_fatal['Day of week'].value_counts()"
   ]
  },
  {
   "cell_type": "code",
   "execution_count": 139,
   "metadata": {},
   "outputs": [
    {
     "data": {
      "text/plain": [
       "SW BARTON ST BETWEEN 26TH AVE SW AND 29TH AVE SW              2\n",
       "ROOSEVELT WAY NE AND NE 65TH ST                               2\n",
       "AURORA AVE N AND N 115TH ST                                   2\n",
       "RAINIER AVE S BETWEEN S MOUNT BAKER EB BV AND S HANFORD ST    2\n",
       "33RD AVE NE AND NE 75TH ST                                    1\n",
       "Name: Address, dtype: int64"
      ]
     },
     "execution_count": 139,
     "metadata": {},
     "output_type": "execute_result"
    }
   ],
   "source": [
    "acc_f_df = ped_df_fatal['Address'].value_counts()\n",
    "acc_f_df.head(5)"
   ]
  },
  {
   "cell_type": "code",
   "execution_count": 140,
   "metadata": {},
   "outputs": [
    {
     "data": {
      "text/html": [
       "<div>\n",
       "<style scoped>\n",
       "    .dataframe tbody tr th:only-of-type {\n",
       "        vertical-align: middle;\n",
       "    }\n",
       "\n",
       "    .dataframe tbody tr th {\n",
       "        vertical-align: top;\n",
       "    }\n",
       "\n",
       "    .dataframe thead th {\n",
       "        text-align: right;\n",
       "    }\n",
       "</style>\n",
       "<table border=\"1\" class=\"dataframe\">\n",
       "  <thead>\n",
       "    <tr style=\"text-align: right;\">\n",
       "      <th></th>\n",
       "      <th>X</th>\n",
       "      <th>Y</th>\n",
       "      <th>Area</th>\n",
       "      <th>Address</th>\n",
       "      <th>Severity Code</th>\n",
       "      <th>Fatalities</th>\n",
       "      <th>Date</th>\n",
       "      <th>Inattention</th>\n",
       "      <th>Under Influence</th>\n",
       "      <th>Weather</th>\n",
       "      <th>Road Conditions</th>\n",
       "      <th>Light Conditions</th>\n",
       "      <th>Pedestrian Rights Violation</th>\n",
       "      <th>Speeding</th>\n",
       "      <th>Day of week</th>\n",
       "    </tr>\n",
       "  </thead>\n",
       "  <tbody>\n",
       "    <tr>\n",
       "      <th>3122</th>\n",
       "      <td>-122.342913</td>\n",
       "      <td>47.690550</td>\n",
       "      <td>Block</td>\n",
       "      <td>N_85TH_ST_BETWEEN_NESBIT_AVE_N_AND_MIDVALE_AVE_N</td>\n",
       "      <td>Fatal</td>\n",
       "      <td>1</td>\n",
       "      <td>2004-02-28</td>\n",
       "      <td>No</td>\n",
       "      <td>Yes</td>\n",
       "      <td>Clear</td>\n",
       "      <td>Dry</td>\n",
       "      <td>Dark_-_Street_Lights_On</td>\n",
       "      <td>Yes</td>\n",
       "      <td>No</td>\n",
       "      <td>Saturday</td>\n",
       "    </tr>\n",
       "    <tr>\n",
       "      <th>4440</th>\n",
       "      <td>-122.276741</td>\n",
       "      <td>47.547432</td>\n",
       "      <td>Block</td>\n",
       "      <td>RAINIER_AVE_S_BETWEEN_S_KENNY_ST_AND_S_GRAHAM_ST</td>\n",
       "      <td>Fatal</td>\n",
       "      <td>1</td>\n",
       "      <td>2004-10-05</td>\n",
       "      <td>No</td>\n",
       "      <td>No</td>\n",
       "      <td>Overcast</td>\n",
       "      <td>Dry</td>\n",
       "      <td>Daylight</td>\n",
       "      <td>Yes</td>\n",
       "      <td>No</td>\n",
       "      <td>Tuesday</td>\n",
       "    </tr>\n",
       "    <tr>\n",
       "      <th>5605</th>\n",
       "      <td>-122.373603</td>\n",
       "      <td>47.660753</td>\n",
       "      <td>Intersection</td>\n",
       "      <td>14TH_AVE_NW_AND_SHILSHOLE_AVE_NW</td>\n",
       "      <td>Fatal</td>\n",
       "      <td>1</td>\n",
       "      <td>2004-05-09</td>\n",
       "      <td>No</td>\n",
       "      <td>No</td>\n",
       "      <td>Clear</td>\n",
       "      <td>Dry</td>\n",
       "      <td>Daylight</td>\n",
       "      <td>No</td>\n",
       "      <td>No</td>\n",
       "      <td>Sunday</td>\n",
       "    </tr>\n",
       "    <tr>\n",
       "      <th>7892</th>\n",
       "      <td>-122.327915</td>\n",
       "      <td>47.614576</td>\n",
       "      <td>Block</td>\n",
       "      <td>MELROSE_AVE_BETWEEN_PIKE_ST_AND_PINE_ST</td>\n",
       "      <td>Fatal</td>\n",
       "      <td>1</td>\n",
       "      <td>2004-09-19</td>\n",
       "      <td>No</td>\n",
       "      <td>No</td>\n",
       "      <td>Overcast</td>\n",
       "      <td>Dry</td>\n",
       "      <td>Dark_-_Street_Lights_On</td>\n",
       "      <td>No</td>\n",
       "      <td>No</td>\n",
       "      <td>Sunday</td>\n",
       "    </tr>\n",
       "    <tr>\n",
       "      <th>8016</th>\n",
       "      <td>-122.311916</td>\n",
       "      <td>47.666428</td>\n",
       "      <td>Intersection</td>\n",
       "      <td>15TH_AVE_NE_AND_NE_52ND_ST</td>\n",
       "      <td>Fatal</td>\n",
       "      <td>1</td>\n",
       "      <td>2004-10-01</td>\n",
       "      <td>No</td>\n",
       "      <td>No</td>\n",
       "      <td>Clear</td>\n",
       "      <td>Dry</td>\n",
       "      <td>Daylight</td>\n",
       "      <td>Yes</td>\n",
       "      <td>No</td>\n",
       "      <td>Friday</td>\n",
       "    </tr>\n",
       "  </tbody>\n",
       "</table>\n",
       "</div>"
      ],
      "text/plain": [
       "               X          Y          Area  \\\n",
       "3122 -122.342913  47.690550         Block   \n",
       "4440 -122.276741  47.547432         Block   \n",
       "5605 -122.373603  47.660753  Intersection   \n",
       "7892 -122.327915  47.614576         Block   \n",
       "8016 -122.311916  47.666428  Intersection   \n",
       "\n",
       "                                               Address Severity Code  \\\n",
       "3122  N_85TH_ST_BETWEEN_NESBIT_AVE_N_AND_MIDVALE_AVE_N         Fatal   \n",
       "4440  RAINIER_AVE_S_BETWEEN_S_KENNY_ST_AND_S_GRAHAM_ST         Fatal   \n",
       "5605                  14TH_AVE_NW_AND_SHILSHOLE_AVE_NW         Fatal   \n",
       "7892           MELROSE_AVE_BETWEEN_PIKE_ST_AND_PINE_ST         Fatal   \n",
       "8016                        15TH_AVE_NE_AND_NE_52ND_ST         Fatal   \n",
       "\n",
       "      Fatalities       Date Inattention Under Influence   Weather  \\\n",
       "3122           1 2004-02-28          No             Yes     Clear   \n",
       "4440           1 2004-10-05          No              No  Overcast   \n",
       "5605           1 2004-05-09          No              No     Clear   \n",
       "7892           1 2004-09-19          No              No  Overcast   \n",
       "8016           1 2004-10-01          No              No     Clear   \n",
       "\n",
       "     Road Conditions         Light Conditions Pedestrian Rights Violation  \\\n",
       "3122             Dry  Dark_-_Street_Lights_On                         Yes   \n",
       "4440             Dry                 Daylight                         Yes   \n",
       "5605             Dry                 Daylight                          No   \n",
       "7892             Dry  Dark_-_Street_Lights_On                          No   \n",
       "8016             Dry                 Daylight                         Yes   \n",
       "\n",
       "     Speeding Day of week  \n",
       "3122       No    Saturday  \n",
       "4440       No     Tuesday  \n",
       "5605       No      Sunday  \n",
       "7892       No      Sunday  \n",
       "8016       No      Friday  "
      ]
     },
     "execution_count": 140,
     "metadata": {},
     "output_type": "execute_result"
    }
   ],
   "source": [
    "acc_f_df=ped_df_fatal.replace(' ', '_', regex=True)\n",
    "acc_f_df.head()"
   ]
  },
  {
   "cell_type": "code",
   "execution_count": 141,
   "metadata": {},
   "outputs": [
    {
     "data": {
      "text/html": [
       "<div>\n",
       "<style scoped>\n",
       "    .dataframe tbody tr th:only-of-type {\n",
       "        vertical-align: middle;\n",
       "    }\n",
       "\n",
       "    .dataframe tbody tr th {\n",
       "        vertical-align: top;\n",
       "    }\n",
       "\n",
       "    .dataframe thead th {\n",
       "        text-align: right;\n",
       "    }\n",
       "</style>\n",
       "<table border=\"1\" class=\"dataframe\">\n",
       "  <thead>\n",
       "    <tr style=\"text-align: right;\">\n",
       "      <th></th>\n",
       "      <th>X</th>\n",
       "      <th>Y</th>\n",
       "      <th>Address</th>\n",
       "      <th>Count</th>\n",
       "    </tr>\n",
       "  </thead>\n",
       "  <tbody>\n",
       "    <tr>\n",
       "      <th>0</th>\n",
       "      <td>-122.344814</td>\n",
       "      <td>47.712319</td>\n",
       "      <td>AURORA_AVE_N_AND_N_115TH_ST</td>\n",
       "      <td>2</td>\n",
       "    </tr>\n",
       "    <tr>\n",
       "      <th>1</th>\n",
       "      <td>-122.317363</td>\n",
       "      <td>47.675829</td>\n",
       "      <td>ROOSEVELT_WAY_NE_AND_NE_65TH_ST</td>\n",
       "      <td>2</td>\n",
       "    </tr>\n",
       "    <tr>\n",
       "      <th>2</th>\n",
       "      <td>-122.367932</td>\n",
       "      <td>47.521030</td>\n",
       "      <td>SW_BARTON_ST_BETWEEN_26TH_AVE_SW_AND_29TH_AVE_SW</td>\n",
       "      <td>2</td>\n",
       "    </tr>\n",
       "    <tr>\n",
       "      <th>3</th>\n",
       "      <td>-122.295910</td>\n",
       "      <td>47.575420</td>\n",
       "      <td>RAINIER_AVE_S_BETWEEN_S_MOUNT_BAKER_EB_BV_AND_...</td>\n",
       "      <td>2</td>\n",
       "    </tr>\n",
       "  </tbody>\n",
       "</table>\n",
       "</div>"
      ],
      "text/plain": [
       "            X          Y                                            Address  \\\n",
       "0 -122.344814  47.712319                        AURORA_AVE_N_AND_N_115TH_ST   \n",
       "1 -122.317363  47.675829                    ROOSEVELT_WAY_NE_AND_NE_65TH_ST   \n",
       "2 -122.367932  47.521030   SW_BARTON_ST_BETWEEN_26TH_AVE_SW_AND_29TH_AVE_SW   \n",
       "3 -122.295910  47.575420  RAINIER_AVE_S_BETWEEN_S_MOUNT_BAKER_EB_BV_AND_...   \n",
       "\n",
       "   Count  \n",
       "0      2  \n",
       "1      2  \n",
       "2      2  \n",
       "3      2  "
      ]
     },
     "execution_count": 141,
     "metadata": {},
     "output_type": "execute_result"
    }
   ],
   "source": [
    "count1 = acc_f_df.groupby(['X', 'Y','Address']).size()\n",
    "c11=count1.sort_values(ascending=False) \n",
    "c11.head()\n",
    "c21=c11.iloc[0:4]\n",
    "c31=c21.reset_index()\n",
    "c31.rename(columns={0:'Count'}, inplace=True)\n",
    "c31.head()"
   ]
  },
  {
   "cell_type": "code",
   "execution_count": 142,
   "metadata": {},
   "outputs": [
    {
     "data": {
      "text/html": [
       "<div>\n",
       "<style scoped>\n",
       "    .dataframe tbody tr th:only-of-type {\n",
       "        vertical-align: middle;\n",
       "    }\n",
       "\n",
       "    .dataframe tbody tr th {\n",
       "        vertical-align: top;\n",
       "    }\n",
       "\n",
       "    .dataframe thead th {\n",
       "        text-align: right;\n",
       "    }\n",
       "</style>\n",
       "<table border=\"1\" class=\"dataframe\">\n",
       "  <thead>\n",
       "    <tr style=\"text-align: right;\">\n",
       "      <th></th>\n",
       "      <th>X</th>\n",
       "      <th>Y</th>\n",
       "      <th>Address</th>\n",
       "      <th>Count</th>\n",
       "    </tr>\n",
       "  </thead>\n",
       "  <tbody>\n",
       "    <tr>\n",
       "      <th>0</th>\n",
       "      <td>-122.344814</td>\n",
       "      <td>47.712319</td>\n",
       "      <td>AURORA_AVE_N_AND_N_115TH_ST</td>\n",
       "      <td>No of fatal accidents: 2</td>\n",
       "    </tr>\n",
       "    <tr>\n",
       "      <th>1</th>\n",
       "      <td>-122.317363</td>\n",
       "      <td>47.675829</td>\n",
       "      <td>ROOSEVELT_WAY_NE_AND_NE_65TH_ST</td>\n",
       "      <td>No of fatal accidents: 2</td>\n",
       "    </tr>\n",
       "    <tr>\n",
       "      <th>2</th>\n",
       "      <td>-122.367932</td>\n",
       "      <td>47.521030</td>\n",
       "      <td>SW_BARTON_ST_BETWEEN_26TH_AVE_SW_AND_29TH_AVE_SW</td>\n",
       "      <td>No of fatal accidents: 2</td>\n",
       "    </tr>\n",
       "    <tr>\n",
       "      <th>3</th>\n",
       "      <td>-122.295910</td>\n",
       "      <td>47.575420</td>\n",
       "      <td>RAINIER_AVE_S_BETWEEN_S_MOUNT_BAKER_EB_BV_AND_...</td>\n",
       "      <td>No of fatal accidents: 2</td>\n",
       "    </tr>\n",
       "  </tbody>\n",
       "</table>\n",
       "</div>"
      ],
      "text/plain": [
       "            X          Y                                            Address  \\\n",
       "0 -122.344814  47.712319                        AURORA_AVE_N_AND_N_115TH_ST   \n",
       "1 -122.317363  47.675829                    ROOSEVELT_WAY_NE_AND_NE_65TH_ST   \n",
       "2 -122.367932  47.521030   SW_BARTON_ST_BETWEEN_26TH_AVE_SW_AND_29TH_AVE_SW   \n",
       "3 -122.295910  47.575420  RAINIER_AVE_S_BETWEEN_S_MOUNT_BAKER_EB_BV_AND_...   \n",
       "\n",
       "                      Count  \n",
       "0  No of fatal accidents: 2  \n",
       "1  No of fatal accidents: 2  \n",
       "2  No of fatal accidents: 2  \n",
       "3  No of fatal accidents: 2  "
      ]
     },
     "execution_count": 142,
     "metadata": {},
     "output_type": "execute_result"
    }
   ],
   "source": [
    "c41 = c31.astype({\"Count\": str})\n",
    "c41.dtypes\n",
    "c41['Count'] = 'No of fatal accidents: ' + c41['Count'].astype(str)\n",
    "c41.head()"
   ]
  },
  {
   "cell_type": "code",
   "execution_count": 143,
   "metadata": {},
   "outputs": [],
   "source": [
    "latitude = 47.61\n",
    "longitude = -122.33\n",
    "seattle_map1 = folium.Map(location=[latitude, longitude], zoom_start=12)"
   ]
  },
  {
   "cell_type": "code",
   "execution_count": 144,
   "metadata": {},
   "outputs": [
    {
     "data": {
      "text/html": [
       "<div style=\"width:100%;\"><div style=\"position:relative;width:100%;height:0;padding-bottom:60%;\"><span style=\"color:#565656\">Make this Notebook Trusted to load map: File -> Trust Notebook</span><iframe src=\"about:blank\" style=\"position:absolute;width:100%;height:100%;left:0;top:0;border:none !important;\" data-html=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 onload=\"this.contentDocument.open();this.contentDocument.write(atob(this.getAttribute('data-html')));this.contentDocument.close();\" allowfullscreen webkitallowfullscreen mozallowfullscreen></iframe></div></div>"
      ],
      "text/plain": [
       "<folium.folium.Map at 0x1f0bca992b0>"
      ]
     },
     "execution_count": 144,
     "metadata": {},
     "output_type": "execute_result"
    }
   ],
   "source": [
    "fatal_accidents = folium.map.FeatureGroup()\n",
    "\n",
    "for lat1, lng1, in zip(c31.Y, c31.X):\n",
    "    fatal_accidents.add_child(\n",
    "        folium.features.CircleMarker(\n",
    "            [lat1, lng1],\n",
    "            radius=5, # define how big you want the circle markers to be\n",
    "            color='red',\n",
    "            fill=True,\n",
    "            fill_color='black',\n",
    "            fill_opacity=0.6\n",
    "        )\n",
    "    )\n",
    "# add pop-up text to each marker on the map    \n",
    "latitudes1 = list(c31.Y)\n",
    "longitudes1 = list(c31.X)\n",
    "labels1 = list(c41.Count)\n",
    "for lat1, lng1, label1 in zip(latitudes1, longitudes1, labels1):\n",
    "    folium.Marker([lat1, lng1], popup=label1).add_to(seattle_map1)\n",
    "\n",
    "# add incidents to map\n",
    "seattle_map1.add_child(fatal_accidents)"
   ]
  },
  {
   "cell_type": "code",
   "execution_count": null,
   "metadata": {},
   "outputs": [],
   "source": []
  },
  {
   "cell_type": "code",
   "execution_count": null,
   "metadata": {},
   "outputs": [],
   "source": []
  },
  {
   "cell_type": "code",
   "execution_count": null,
   "metadata": {},
   "outputs": [],
   "source": []
  },
  {
   "cell_type": "code",
   "execution_count": null,
   "metadata": {},
   "outputs": [],
   "source": []
  }
 ],
 "metadata": {
  "kernelspec": {
   "display_name": "Python 3",
   "language": "python",
   "name": "python3"
  },
  "language_info": {
   "codemirror_mode": {
    "name": "ipython",
    "version": 3
   },
   "file_extension": ".py",
   "mimetype": "text/x-python",
   "name": "python",
   "nbconvert_exporter": "python",
   "pygments_lexer": "ipython3",
   "version": "3.7.3"
  }
 },
 "nbformat": 4,
 "nbformat_minor": 4
}
